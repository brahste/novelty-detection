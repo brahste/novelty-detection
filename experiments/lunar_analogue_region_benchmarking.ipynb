{
 "cells": [
  {
   "cell_type": "code",
   "execution_count": 1,
   "id": "165efe4a",
   "metadata": {},
   "outputs": [],
   "source": [
    "import time\n",
    "import torch\n",
    "import pickle\n",
    "import os\n",
    "import pytorch_lightning as pl\n",
    "import numpy as np\n",
    "import matplotlib.pyplot as plt\n",
    "import pandas as pd\n",
    "\n",
    "from pathlib import Path\n",
    "from utils import tools, callbacks, metrics, supported_preprocessing_transforms\n",
    "from modules.cae_base_module import CAEBaseModule\n",
    "from modules.aae_base_module import AAEBaseModule\n",
    "from modules.vae_base_module import VAEBaseModule\n",
    "from datasets import supported_datamodules\n",
    "from models import supported_models\n",
    "from functools import reduce"
   ]
  },
  {
   "cell_type": "markdown",
   "id": "2deeb952",
   "metadata": {},
   "source": [
    "# Novel Region Extraction with Generic Reconstructions\n",
    "\n",
    "Images of planetary landscapes contain incredible amounts of valuable information. This poses a problem for novelty detection. Since truly novel content may only take up a small fraction of the image, global image properties that may be useful for novelty detection are diluated by the other details in the landscape. This experiment seeks to address this limitation by implementing *novel region extraction*, the task of tagging regions in larger images and ranking them by novelty. We hypothesize that by using unsupervised object recognition to intelligently cropped regions, general reconstruction-based detection techniques can be repurposed into novel region extractors.\n",
    "\n",
    "From a practical perspective, the region proposal step is implemented within the preprocessing pipeline. In the following code, the region proposal itself is called implicitly in the `supported_preprocessing_transforms`, the code for it is found in `utils/preprocessing.py`. Given the large computational burden placed on the CPU when region extraction  is used during preprocessing, it is easier to load the batch once and test each model serially than to test the models with their own dedicted dataloaders. One downside is that the batch size is static for all testing cycles; however, since batches are looped over in the `test_step` regardless of the model, this only affects the amount of data dropped in the final batch when the test size isn't divisible by the batch size."
   ]
  },
  {
   "cell_type": "code",
   "execution_count": 2,
   "id": "2ab5c934",
   "metadata": {},
   "outputs": [
    {
     "name": "stdout",
     "output_type": "stream",
     "text": [
      "Found archived models:\n",
      "------\n",
      "SimpleVAE/archive_nre1_2021-05-04\n",
      "SimpleVAE/archive_nre2_2021-05-04\n",
      "SimpleAAE/archive_nre2_2021-05-03\n",
      "SimpleAAE/archive_nre1_2021-05-03\n",
      "BaselineCAE/archive_nre1_2021-05-02\n",
      "CompressionCAEHighCapacity/archive_nre1_2021-05-03\n",
      "CompressionCAEMidCapacity/archive_nre1_2021-05-02\n"
     ]
    }
   ],
   "source": [
    "# Import configurations and paths to logged models\n",
    "root = Path.cwd() / '..'\n",
    "log_path = root / 'logs' / 'LunarAnalogueDataModule'\n",
    "paths_to_archived_models = list(Path(log_path).glob('**/archive_nre*'))\n",
    "\n",
    "print('Found archived models:\\n------')\n",
    "print('\\n'.join([f'{p.parent.name}/{p.name}' for p in paths_to_archived_models]))"
   ]
  },
  {
   "cell_type": "code",
   "execution_count": 3,
   "id": "fa644c0a",
   "metadata": {},
   "outputs": [
    {
     "name": "stdout",
     "output_type": "stream",
     "text": [
      "Loaded state dict for: SimpleVAE/archive_nre1_2021-05-04\n",
      "Loaded state dict for: SimpleVAE/archive_nre2_2021-05-04\n",
      "Loaded state dict for: SimpleAAE/archive_nre2_2021-05-03\n",
      "Loaded state dict for: SimpleAAE/archive_nre1_2021-05-03\n",
      "Loaded state dict for: BaselineCAE/archive_nre1_2021-05-02\n",
      "Loaded state dict for: CompressionCAEHighCapacity/archive_nre1_2021-05-03\n",
      "Loaded state dict for: CompressionCAEMidCapacity/archive_nre1_2021-05-02\n"
     ]
    }
   ],
   "source": [
    "# Load the checkpoints for all the training modules and save them in a dictionary\n",
    "module_catalog = {}\n",
    "\n",
    "for pth in paths_to_archived_models:\n",
    "    config = tools.load_config(pth / 'configuration.yaml', silent=True)\n",
    "    model_type = pth.parent.name\n",
    "    model_name = pth.name\n",
    "    ckpt_path = next(iter((pth / 'checkpoints').glob('val_*')))\n",
    "    \n",
    "    # Unsupervising region proposal is called implicity in this line, see utils/preprocessing.py\n",
    "    preprocessing_transforms = supported_preprocessing_transforms[config['data-parameters']['preprocessing']]\n",
    "    \n",
    "    datamodule = supported_datamodules[config['experiment-parameters']['datamodule']](\n",
    "        data_transforms=preprocessing_transforms,\n",
    "        **config['data-parameters'])\n",
    "    datamodule.setup('test')\n",
    "\n",
    "    # Handle the various model instantiations\n",
    "    if 'AAE' in model_type:\n",
    "        model = supported_models[model_type](\n",
    "            in_nodes=reduce(lambda x, y: x*y, datamodule.data_shape),\n",
    "            latent_nodes=config['module-parameters']['latent_nodes'])\n",
    "        module = AAEBaseModule(model, **config['module-parameters'])\n",
    "    elif 'VAE' in model_type:\n",
    "        model = supported_models[model_type](\n",
    "            in_shape=datamodule.data_shape,\n",
    "            latent_nodes=config['module-parameters']['latent_nodes'])\n",
    "        module = VAEBaseModule(model, **config['module-parameters'])\n",
    "    elif 'CAE' in model_type:\n",
    "        model = supported_models[model_type](in_shape=datamodule.data_shape)\n",
    "        module = CAEBaseModule(model, **config['module-parameters'])\n",
    "    else:\n",
    "        raise ValueError(f'Model substring not found, got {model_type}')\n",
    "        \n",
    "    # Load the state_dict into the module architecture\n",
    "    checkpoint = torch.load(ckpt_path)\n",
    "    module.load_state_dict(checkpoint['state_dict'])\n",
    "    \n",
    "    if model_type not in module_catalog:\n",
    "        module_catalog[model_type] = {}\n",
    "    module_catalog[model_type][model_name] = module\n",
    "    print(f'Loaded state dict for: {model_type}/{model_name}')"
   ]
  },
  {
   "cell_type": "code",
   "execution_count": 25,
   "id": "e9499485",
   "metadata": {
    "scrolled": true
   },
   "outputs": [
    {
     "name": "stdout",
     "output_type": "stream",
     "text": [
      "------\n",
      "Loaded batch 0\n",
      "------\n",
      "Testing on: SimpleVAE-nre1\n",
      "Testing on: SimpleVAE-nre2\n",
      "Testing on: SimpleAAE-nre2\n",
      "Testing on: SimpleAAE-nre1\n",
      "Testing on: BaselineCAE-nre1\n",
      "Testing on: CompressionCAEHighCapacity-nre1\n",
      "Testing on: CompressionCAEMidCapacity-nre1\n",
      "------\n",
      "Loaded batch 1\n",
      "------\n",
      "Testing on: SimpleVAE-nre1\n",
      "Testing on: SimpleVAE-nre2\n",
      "Testing on: SimpleAAE-nre2\n",
      "Testing on: SimpleAAE-nre1\n",
      "Testing on: BaselineCAE-nre1\n",
      "Testing on: CompressionCAEHighCapacity-nre1\n",
      "Testing on: CompressionCAEMidCapacity-nre1\n",
      "------\n",
      "Loaded batch 2\n",
      "------\n",
      "Testing on: SimpleVAE-nre1\n",
      "Testing on: SimpleVAE-nre2\n",
      "Testing on: SimpleAAE-nre2\n",
      "Testing on: SimpleAAE-nre1\n",
      "Testing on: BaselineCAE-nre1\n",
      "Testing on: CompressionCAEHighCapacity-nre1\n",
      "Testing on: CompressionCAEMidCapacity-nre1\n",
      "------\n",
      "Loaded batch 3\n",
      "------\n",
      "Testing on: SimpleVAE-nre1\n",
      "Testing on: SimpleVAE-nre2\n",
      "Testing on: SimpleAAE-nre2\n",
      "Testing on: SimpleAAE-nre1\n",
      "Testing on: BaselineCAE-nre1\n",
      "Testing on: CompressionCAEHighCapacity-nre1\n",
      "Testing on: CompressionCAEMidCapacity-nre1\n",
      "------\n",
      "Loaded batch 4\n",
      "------\n",
      "Testing on: SimpleVAE-nre1\n",
      "Testing on: SimpleVAE-nre2\n",
      "Testing on: SimpleAAE-nre2\n",
      "Testing on: SimpleAAE-nre1\n",
      "Testing on: BaselineCAE-nre1\n",
      "Testing on: CompressionCAEHighCapacity-nre1\n",
      "Testing on: CompressionCAEMidCapacity-nre1\n",
      "------\n",
      "Loaded batch 5\n",
      "------\n",
      "Testing on: SimpleVAE-nre1\n",
      "Testing on: SimpleVAE-nre2\n",
      "Testing on: SimpleAAE-nre2\n",
      "Testing on: SimpleAAE-nre1\n",
      "Testing on: BaselineCAE-nre1\n",
      "Testing on: CompressionCAEHighCapacity-nre1\n",
      "Testing on: CompressionCAEMidCapacity-nre1\n",
      "------\n",
      "Loaded batch 6\n",
      "------\n",
      "Testing on: SimpleVAE-nre1\n",
      "Testing on: SimpleVAE-nre2\n",
      "Testing on: SimpleAAE-nre2\n",
      "Testing on: SimpleAAE-nre1\n",
      "Testing on: BaselineCAE-nre1\n",
      "Testing on: CompressionCAEHighCapacity-nre1\n",
      "Testing on: CompressionCAEMidCapacity-nre1\n",
      "------\n",
      "Loaded batch 7\n",
      "------\n",
      "Testing on: SimpleVAE-nre1\n",
      "Testing on: SimpleVAE-nre2\n",
      "Testing on: SimpleAAE-nre2\n",
      "Testing on: SimpleAAE-nre1\n",
      "Testing on: BaselineCAE-nre1\n",
      "Testing on: CompressionCAEHighCapacity-nre1\n",
      "Testing on: CompressionCAEMidCapacity-nre1\n",
      "------\n",
      "Loaded batch 8\n",
      "------\n",
      "Testing on: SimpleVAE-nre1\n",
      "Testing on: SimpleVAE-nre2\n",
      "Testing on: SimpleAAE-nre2\n",
      "Testing on: SimpleAAE-nre1\n",
      "Testing on: BaselineCAE-nre1\n",
      "Testing on: CompressionCAEHighCapacity-nre1\n",
      "Testing on: CompressionCAEMidCapacity-nre1\n",
      "------\n",
      "Loaded batch 9\n",
      "------\n",
      "Testing on: SimpleVAE-nre1\n",
      "Testing on: SimpleVAE-nre2\n",
      "Testing on: SimpleAAE-nre2\n",
      "Testing on: SimpleAAE-nre1\n",
      "Testing on: BaselineCAE-nre1\n",
      "Testing on: CompressionCAEHighCapacity-nre1\n",
      "Testing on: CompressionCAEMidCapacity-nre1\n",
      "------\n",
      "Loaded batch 10\n",
      "------\n",
      "Testing on: SimpleVAE-nre1\n",
      "Testing on: SimpleVAE-nre2\n",
      "Testing on: SimpleAAE-nre2\n",
      "Testing on: SimpleAAE-nre1\n",
      "Testing on: BaselineCAE-nre1\n",
      "Testing on: CompressionCAEHighCapacity-nre1\n",
      "Testing on: CompressionCAEMidCapacity-nre1\n",
      "------\n",
      "Loaded batch 11\n",
      "------\n",
      "Testing on: SimpleVAE-nre1\n",
      "Testing on: SimpleVAE-nre2\n",
      "Testing on: SimpleAAE-nre2\n",
      "Testing on: SimpleAAE-nre1\n",
      "Testing on: BaselineCAE-nre1\n",
      "Testing on: CompressionCAEHighCapacity-nre1\n",
      "Testing on: CompressionCAEMidCapacity-nre1\n",
      "------\n",
      "Loaded batch 12\n",
      "------\n",
      "Testing on: SimpleVAE-nre1\n",
      "Testing on: SimpleVAE-nre2\n",
      "Testing on: SimpleAAE-nre2\n",
      "Testing on: SimpleAAE-nre1\n",
      "Testing on: BaselineCAE-nre1\n",
      "Testing on: CompressionCAEHighCapacity-nre1\n",
      "Testing on: CompressionCAEMidCapacity-nre1\n",
      "------\n",
      "Loaded batch 13\n",
      "------\n",
      "Testing on: SimpleVAE-nre1\n",
      "Testing on: SimpleVAE-nre2\n",
      "Testing on: SimpleAAE-nre2\n",
      "Testing on: SimpleAAE-nre1\n",
      "Testing on: BaselineCAE-nre1\n",
      "Testing on: CompressionCAEHighCapacity-nre1\n",
      "Testing on: CompressionCAEMidCapacity-nre1\n",
      "------\n",
      "Loaded batch 14\n",
      "------\n",
      "Testing on: SimpleVAE-nre1\n",
      "Testing on: SimpleVAE-nre2\n",
      "Testing on: SimpleAAE-nre2\n",
      "Testing on: SimpleAAE-nre1\n",
      "Testing on: BaselineCAE-nre1\n",
      "Testing on: CompressionCAEHighCapacity-nre1\n",
      "Testing on: CompressionCAEMidCapacity-nre1\n",
      "------\n",
      "Loaded batch 15\n",
      "------\n",
      "Testing on: SimpleVAE-nre1\n",
      "Testing on: SimpleVAE-nre2\n",
      "Testing on: SimpleAAE-nre2\n",
      "Testing on: SimpleAAE-nre1\n",
      "Testing on: BaselineCAE-nre1\n",
      "Testing on: CompressionCAEHighCapacity-nre1\n",
      "Testing on: CompressionCAEMidCapacity-nre1\n",
      "------\n",
      "Loaded batch 16\n",
      "------\n",
      "Testing on: SimpleVAE-nre1\n",
      "Testing on: SimpleVAE-nre2\n",
      "Testing on: SimpleAAE-nre2\n",
      "Testing on: SimpleAAE-nre1\n",
      "Testing on: BaselineCAE-nre1\n",
      "Testing on: CompressionCAEHighCapacity-nre1\n",
      "Testing on: CompressionCAEMidCapacity-nre1\n",
      "------\n",
      "Loaded batch 17\n",
      "------\n",
      "Testing on: SimpleVAE-nre1\n",
      "Testing on: SimpleVAE-nre2\n",
      "Testing on: SimpleAAE-nre2\n",
      "Testing on: SimpleAAE-nre1\n",
      "Testing on: BaselineCAE-nre1\n",
      "Testing on: CompressionCAEHighCapacity-nre1\n",
      "Testing on: CompressionCAEMidCapacity-nre1\n",
      "------\n",
      "Loaded batch 18\n",
      "------\n",
      "Testing on: SimpleVAE-nre1\n",
      "Testing on: SimpleVAE-nre2\n",
      "Testing on: SimpleAAE-nre2\n",
      "Testing on: SimpleAAE-nre1\n",
      "Testing on: BaselineCAE-nre1\n",
      "Testing on: CompressionCAEHighCapacity-nre1\n",
      "Testing on: CompressionCAEMidCapacity-nre1\n",
      "------\n",
      "Loaded batch 19\n",
      "------\n",
      "Testing on: SimpleVAE-nre1\n",
      "Testing on: SimpleVAE-nre2\n",
      "Testing on: SimpleAAE-nre2\n",
      "Testing on: SimpleAAE-nre1\n",
      "Testing on: BaselineCAE-nre1\n",
      "Testing on: CompressionCAEHighCapacity-nre1\n",
      "Testing on: CompressionCAEMidCapacity-nre1\n",
      "------\n",
      "Loaded batch 20\n",
      "------\n",
      "Testing on: SimpleVAE-nre1\n",
      "Testing on: SimpleVAE-nre2\n",
      "Testing on: SimpleAAE-nre2\n",
      "Testing on: SimpleAAE-nre1\n",
      "Testing on: BaselineCAE-nre1\n",
      "Testing on: CompressionCAEHighCapacity-nre1\n",
      "Testing on: CompressionCAEMidCapacity-nre1\n",
      "------\n",
      "Loaded batch 21\n",
      "------\n",
      "Testing on: SimpleVAE-nre1\n",
      "Testing on: SimpleVAE-nre2\n",
      "Testing on: SimpleAAE-nre2\n",
      "Testing on: SimpleAAE-nre1\n",
      "Testing on: BaselineCAE-nre1\n",
      "Testing on: CompressionCAEHighCapacity-nre1\n",
      "Testing on: CompressionCAEMidCapacity-nre1\n",
      "------\n",
      "Loaded batch 22\n",
      "------\n",
      "Testing on: SimpleVAE-nre1\n",
      "Testing on: SimpleVAE-nre2\n",
      "Testing on: SimpleAAE-nre2\n",
      "Testing on: SimpleAAE-nre1\n",
      "Testing on: BaselineCAE-nre1\n",
      "Testing on: CompressionCAEHighCapacity-nre1\n",
      "Testing on: CompressionCAEMidCapacity-nre1\n",
      "------\n",
      "Loaded batch 23\n",
      "------\n",
      "Testing on: SimpleVAE-nre1\n",
      "Testing on: SimpleVAE-nre2\n",
      "Testing on: SimpleAAE-nre2\n",
      "Testing on: SimpleAAE-nre1\n",
      "Testing on: BaselineCAE-nre1\n",
      "Testing on: CompressionCAEHighCapacity-nre1\n",
      "Testing on: CompressionCAEMidCapacity-nre1\n",
      "------\n",
      "Loaded batch 24\n",
      "------\n",
      "Testing on: SimpleVAE-nre1\n",
      "Testing on: SimpleVAE-nre2\n",
      "Testing on: SimpleAAE-nre2\n",
      "Testing on: SimpleAAE-nre1\n",
      "Testing on: BaselineCAE-nre1\n",
      "Testing on: CompressionCAEHighCapacity-nre1\n",
      "Testing on: CompressionCAEMidCapacity-nre1\n",
      "------\n",
      "Loaded batch 25\n",
      "------\n",
      "Testing on: SimpleVAE-nre1\n",
      "Testing on: SimpleVAE-nre2\n",
      "Testing on: SimpleAAE-nre2\n",
      "Testing on: SimpleAAE-nre1\n",
      "Testing on: BaselineCAE-nre1\n",
      "Testing on: CompressionCAEHighCapacity-nre1\n",
      "Testing on: CompressionCAEMidCapacity-nre1\n"
     ]
    }
   ],
   "source": [
    "# Testing loop\n",
    "# Caution: this loop takes _minutes_ to run.\n",
    "start = time.time()\n",
    "\n",
    "# Collect scores and labels for all models in a catalog\n",
    "result_catalog = {}\n",
    "\n",
    "# Loop over the test dataloader, using the same batch for each model to save time\n",
    "with torch.no_grad():\n",
    "    for batch_nb, batch in enumerate(datamodule.test_dataloader()):\n",
    "        print(f'------\\nLoaded batch {batch_nb}\\n------')\n",
    "                \n",
    "        # Extract the model type (e.g. CAE, AAE, VAE) and their versions\n",
    "        for model_type, model_versions in module_catalog.items():\n",
    "            \n",
    "            # Extract the name of the archive and the module's state dict\n",
    "            for model_name, module in model_versions.items():\n",
    "                \n",
    "                # Set the model/components in evaluation mode\n",
    "                if 'AAE' in model_type:\n",
    "                    module.encoder.eval()\n",
    "                    module.decoder.eval()\n",
    "                else:\n",
    "                    module.model.eval()\n",
    "                \n",
    "                short_name = model_type + '-' + model_name.split('_')[1]\n",
    "                if short_name not in result_catalog:\n",
    "                    result_catalog[short_name] = {\n",
    "                        'scores': [], \n",
    "                        'filepaths': [],\n",
    "                        'gt_bboxes': [],\n",
    "                        'cr_bboxes': []\n",
    "                    }\n",
    "                print(f'Testing on: {short_name}')\n",
    "\n",
    "                result = module.test_step(batch, batch_nb)\n",
    "                \n",
    "                result_catalog[short_name]['scores'].extend(result['scores'])\n",
    "                result_catalog[short_name]['filepaths'].extend(result['labels']['filepaths'])\n",
    "                result_catalog[short_name]['gt_bboxes'].extend(result['labels']['gt_bboxes'])\n",
    "                result_catalog[short_name]['cr_bboxes'].extend(result['labels']['cr_bboxes'])\n",
    "                \n",
    "print(f'Training took: {time.time() - start:.2f}')"
   ]
  },
  {
   "cell_type": "code",
   "execution_count": 26,
   "id": "06fa81c5",
   "metadata": {},
   "outputs": [],
   "source": [
    "# Format data for plotting and analysis\n",
    "for sn, results in result_catalog.items():\n",
    "    results['scores'] = np.array(results['scores'])\n",
    "    results['filepaths'] = np.array(results['filepaths']).reshape(-1)\n",
    "    results['gt_bboxes'] = np.array(results['gt_bboxes']).reshape(-1, 4)\n",
    "    results['cr_bboxes'] = np.array(results['cr_bboxes']).reshape(-1, 4)\n",
    "\n",
    "with open('nre-results_2021-05-05.pkl', 'wb') as f:\n",
    "    pickle.dump(result_catalog, f)"
   ]
  },
  {
   "cell_type": "code",
   "execution_count": 48,
   "id": "d03b8412",
   "metadata": {},
   "outputs": [
    {
     "name": "stdout",
     "output_type": "stream",
     "text": [
      "Number of novelties: 428\n",
      "Number of overlapping bounding boxes: 96\n",
      "Number of duplicate detections: 5\n"
     ]
    }
   ],
   "source": [
    "ious = []\n",
    "# binary_labels = []  # IOU > 0.5 counts as a label\n",
    "n_duplicates = 0\n",
    "n_novelties = 428\n",
    "\n",
    "gt_bboxes = result_catalog['BaselineCAE-nre1']['gt_bboxes']\n",
    "cr_bboxes = result_catalog['BaselineCAE-nre1']['cr_bboxes']\n",
    "for i, (gt, cr) in enumerate(zip(gt_bboxes, cr_bboxes)):\n",
    "    cr = cr * 5  # Rescale the bounding boxes, see 'scale' parameter in LunarAnaloguePreprocesing\n",
    "    iou = metrics.iou(cr, gt)\n",
    "    ious.append(iou)\n",
    "    \n",
    "    if i == 0:\n",
    "        prev_gt = [-1, -1, -1, -1]\n",
    "    if iou > 0.6:\n",
    "        if all(gt == prev_gt):\n",
    "            n_duplicates += 1\n",
    "        prev_gt = gt\n",
    "    \n",
    "ious = np.array(ious)\n",
    "bin_labels = ious > 0.6\n",
    "\n",
    "print(f'Number of novelties: {n_novelties}')\n",
    "print(f'Number of overlapping bounding boxes: {sum(bin_labels)}')\n",
    "print(f'Number of duplicate detections: {n_duplicates}')"
   ]
  },
  {
   "cell_type": "markdown",
   "id": "a77769f5",
   "metadata": {},
   "source": [
    "It is important to note a large assumtion that"
   ]
  },
  {
   "cell_type": "code",
   "execution_count": 31,
   "id": "9bc14b4c",
   "metadata": {},
   "outputs": [
    {
     "name": "stdout",
     "output_type": "stream",
     "text": [
      "SimpleVAE-nre1: 933.5975801583845\n",
      "SimpleVAE-nre2: 810.0836985252681\n",
      "SimpleAAE-nre2: 732.6461637118482\n",
      "SimpleAAE-nre1: 762.7082133439835\n",
      "BaselineCAE-nre1: 124.18814054998802\n",
      "CompressionCAEHighCapacity-nre1: 147.882209488831\n",
      "CompressionCAEMidCapacity-nre1: 138.10496414213776\n"
     ]
    },
    {
     "data": {
      "image/png": "[encoded data removed]",
      "text/plain": [
       "<Figure size 720x720 with 1 Axes>"
      ]
     },
     "metadata": {
      "needs_background": "light"
     },
     "output_type": "display_data"
    },
    {
     "name": "stdout",
     "output_type": "stream",
     "text": [
      "Random ROC AUC: 0.5\n"
     ]
    }
   ],
   "source": [
    "plt.figure(figsize=(10,10))\n",
    "for sn, results in result_catalog.items():\n",
    "\n",
    "    scores = results['scores']\n",
    "    print(f'{sn}: {sum(scores)}')\n",
    "    \n",
    "    fpr, tpr, thresholds, auc = metrics.roc(scores, bin_labels)\n",
    "    \n",
    "    plt.plot(fpr, tpr, lw=2., label=f'{sn} AUC: {auc:.2f}')\n",
    "    \n",
    "plt.xticks(fontsize=12)\n",
    "plt.yticks(fontsize=12)\n",
    "plt.xlabel('FPR', fontsize=16)\n",
    "plt.ylabel('TPR', fontsize=16)\n",
    "plt.legend(fontsize=16)\n",
    "plt.plot([0., 1.], [0., 1.], 'k:', lw=2, label='Random')\n",
    "plt.show()\n",
    "print('Random ROC AUC: 0.5')"
   ]
  },
  {
   "cell_type": "code",
   "execution_count": 9,
   "id": "74da98f8",
   "metadata": {},
   "outputs": [
    {
     "name": "stdout",
     "output_type": "stream",
     "text": [
      "Experimental parameters\n",
      "------\n",
      "{'data-parameters': {'batch_size': 32,\n",
      "                     'glob_pattern_test': None,\n",
      "                     'glob_pattern_train': None,\n",
      "                     'preprocessing': 'LunarAnalogueRegionExtractor',\n",
      "                     'root_data_path': '/home/brahste/Datasets/NoveltyLunarAnalogue',\n",
      "                     'train_fraction': None,\n",
      "                     'use_nre_collation': True},\n",
      " 'experiment-parameters': {'datamodule': 'LunarAnalogueDataModule',\n",
      "                           'log_dir': 'logs',\n",
      "                           'model': 'BaselineCAE',\n",
      "                           'patience': None},\n",
      " 'module-parameters': {'learning_rate': 0.0009120108393559097,\n",
      "                       'weight_decay_coefficient': 0.1}}\n"
     ]
    },
    {
     "data": {
      "text/plain": [
       "<All keys matched successfully>"
      ]
     },
     "execution_count": 9,
     "metadata": {},
     "output_type": "execute_result"
    }
   ],
   "source": [
    "config = tools.load_config('../logs/LunarAnalogueDataModule/BaselineCAE/archive_nre1_2021-05-02/configuration.yaml')\n",
    "\n",
    "ptransf = supported_preprocessing_transforms[config['data-parameters']['preprocessing']]\n",
    "\n",
    "dm = supported_datamodules[config['experiment-parameters']['datamodule']](\n",
    "    data_transforms=ptransf,\n",
    "    **config['data-parameters'])\n",
    "dm.setup('test')\n",
    "\n",
    "model = supported_models[config['experiment-parameters']['model']](dm.data_shape)\n",
    "\n",
    "module = CAEBaseModule(model, **config['module-parameters'])\n",
    "\n",
    "# Load the state_dict into the module architecture\n",
    "checkpoint = torch.load('../logs/LunarAnalogueDataModule/BaselineCAE/archive_nre1_2021-05-02/checkpoints/val_loss=0.01-epoch=7.ckpt')\n",
    "module.load_state_dict(checkpoint['state_dict'])"
   ]
  },
  {
   "cell_type": "code",
   "execution_count": 10,
   "id": "93da6aa8",
   "metadata": {},
   "outputs": [
    {
     "name": "stdout",
     "output_type": "stream",
     "text": [
      "[BATCH 0] Mean score: 0.008120947517454624\n",
      "[BATCH 1] Mean score: 0.007450256962329149\n",
      "[BATCH 2] Mean score: 0.007954009808599949\n",
      "[BATCH 3] Mean score: 0.007497146259993315\n",
      "[BATCH 4] Mean score: 0.007779946085065603\n",
      "[BATCH 5] Mean score: 0.008597356267273426\n",
      "[BATCH 6] Mean score: 0.007438408210873604\n",
      "[BATCH 7] Mean score: 0.00830748025327921\n",
      "[BATCH 8] Mean score: 0.010234220884740353\n",
      "[BATCH 9] Mean score: 0.010339700616896152\n",
      "[BATCH 10] Mean score: 0.009757225401699543\n",
      "[BATCH 11] Mean score: 0.009527400135993958\n",
      "[BATCH 12] Mean score: 0.009031212888658047\n",
      "[BATCH 13] Mean score: 0.009699593298137188\n",
      "[BATCH 14] Mean score: 0.009073089808225632\n",
      "[BATCH 15] Mean score: 0.009594758041203022\n",
      "[BATCH 16] Mean score: 0.009209606796503067\n",
      "[BATCH 17] Mean score: 0.009363062679767609\n",
      "[BATCH 18] Mean score: 0.009065676480531693\n",
      "[BATCH 19] Mean score: 0.00930169876664877\n",
      "[BATCH 20] Mean score: 0.009909684769809246\n",
      "[BATCH 21] Mean score: 0.009713936597108841\n",
      "[BATCH 22] Mean score: 0.009145484305918217\n",
      "[BATCH 23] Mean score: 0.009297176264226437\n",
      "[BATCH 24] Mean score: 0.009175032377243042\n",
      "[BATCH 25] Mean score: 0.008912968449294567\n"
     ]
    }
   ],
   "source": [
    "# Collect scores and labels for all models into a catalog\n",
    "\n",
    "test_novelty_scores = []\n",
    "test_novelty_labels = []\n",
    "\n",
    "module.model.eval()  # Freeze dropout and batch normalization parameters\n",
    "\n",
    "with torch.no_grad():\n",
    "    for batch_nb, batch in enumerate(dm.test_dataloader()):\n",
    "\n",
    "        # Need to implement custom testing to manage regions\n",
    "        batch_in, batch_labels = module.handle_batch_shape(batch)\n",
    "        batch_lt = module.model.encoder(batch_in)\n",
    "        batch_rc = module.model.decoder(batch_lt)\n",
    "        loss = module.loss_function(batch_rc, batch_in)\n",
    "        \n",
    "        for x_rc, x_in in zip(batch_rc, batch_in):\n",
    "            test_novelty_scores.append(module.loss_function(x_rc, x_in))\n",
    "\n",
    "        test_novelty_labels.append(batch_labels)\n",
    "        print(f'[BATCH {batch_nb}] Mean score: {loss.mean()}')"
   ]
  },
  {
   "cell_type": "code",
   "execution_count": 11,
   "id": "496d15ad",
   "metadata": {},
   "outputs": [
    {
     "name": "stdout",
     "output_type": "stream",
     "text": [
      "(13312,)\n",
      "(26,)\n"
     ]
    }
   ],
   "source": [
    "# Here we extract the labels to match the number of crops obtained\n",
    "scores = np.array(test_novelty_scores)\n",
    "labels = np.array(test_novelty_labels)\n",
    "print(scores.shape)\n",
    "print(labels.shape)\n",
    "\n",
    "gt_bboxes = []\n",
    "cr_bboxes = []\n",
    "\n",
    "for batch_labels in test_novelty_labels:\n",
    "    gtbb = batch_labels['gt_bboxes'].reshape(-1, 4)\n",
    "    crbb = batch_labels['cr_bboxes'].reshape(-1, 4)\n",
    "    gt_bboxes.extend(gtbb)\n",
    "    cr_bboxes.extend(crbb)\n",
    "    \n",
    "gt_bboxes = np.array(gt_bboxes)\n",
    "cr_bboxes = np.array(cr_bboxes)"
   ]
  },
  {
   "cell_type": "code",
   "execution_count": 12,
   "id": "e957fc17",
   "metadata": {},
   "outputs": [
    {
     "name": "stdout",
     "output_type": "stream",
     "text": [
      "(13312, 4)\n",
      "(13312, 4)\n",
      "(13312,)\n",
      "(13312,)\n",
      "96\n",
      "0\n"
     ]
    }
   ],
   "source": [
    "print(gt_bboxes.shape)\n",
    "print(cr_bboxes.shape)\n",
    "ious = []\n",
    "binary_labels = []  # IOU > 0.5 counts as a label\n",
    "\n",
    "n_dups = 0\n",
    "\n",
    "for i, (gt, cr) in enumerate(zip(gt_bboxes, cr_bboxes)):\n",
    "    \n",
    "    cr = cr * 5\n",
    "    iou = metrics.iou(cr, gt)\n",
    "    ious.append(iou)\n",
    "    \n",
    "    if iou > 0.6:\n",
    "        binary_labels.append(1)\n",
    "#         if i != 0:\n",
    "#             if all(gt == prev_gt):\n",
    "#                 n_dups += 1\n",
    "#         prev_gt = gt\n",
    "    else:\n",
    "        binary_labels.append(0)\n",
    "    \n",
    "    \n",
    "ious = np.array(ious)\n",
    "binary_labels = np.array(binary_labels)\n",
    "print(ious.shape)\n",
    "print(binary_labels.shape)\n",
    "print(sum(binary_labels))\n",
    "print(n_dups)"
   ]
  },
  {
   "cell_type": "code",
   "execution_count": 13,
   "id": "8f9e04c3",
   "metadata": {},
   "outputs": [
    {
     "name": "stdout",
     "output_type": "stream",
     "text": [
      "119.55092173727462\n"
     ]
    }
   ],
   "source": [
    "print(sum(scores))"
   ]
  },
  {
   "cell_type": "code",
   "execution_count": 14,
   "id": "5e424c7b",
   "metadata": {},
   "outputs": [],
   "source": [
    "fpr, tpr, thresholds, auc = metrics.roc(scores, binary_labels)"
   ]
  },
  {
   "cell_type": "code",
   "execution_count": 15,
   "id": "b7a27cb8",
   "metadata": {},
   "outputs": [
    {
     "data": {
      "image/png": "[encoded data removed]",
      "text/plain": [
       "<Figure size 432x288 with 1 Axes>"
      ]
     },
     "metadata": {
      "needs_background": "light"
     },
     "output_type": "display_data"
    },
    {
     "name": "stdout",
     "output_type": "stream",
     "text": [
      "Random ROC AUC: 0.5\n"
     ]
    }
   ],
   "source": [
    "plt.plot(fpr, tpr, lw=2., label=f'AUC: {auc:.2f}')\n",
    "plt.plot([0., 1.], [0., 1.], 'k:', lw=2, label='Random')\n",
    "plt.legend(fontsize=16)\n",
    "plt.xticks(fontsize=12)\n",
    "plt.yticks(fontsize=12)\n",
    "plt.xlabel('FPR', fontsize=16)\n",
    "plt.ylabel('TPR', fontsize=16)\n",
    "plt.show()\n",
    "print('Random ROC AUC: 0.5')"
   ]
  },
  {
   "cell_type": "code",
   "execution_count": 19,
   "id": "722ad6a2",
   "metadata": {},
   "outputs": [],
   "source": [
    "\n",
    "pak = metrics.precision_at_k(scores, binary_labels)\n",
    "\n",
    "uniques, counts = np.unique(binary_labels, return_counts=True)\n",
    "random = counts.min() / counts.sum()\n",
    "\n",
    "plt.plot(pak)\n",
    "    \n",
    "plt.plot([0, len(pak)], [random, random], 'k:', label='Random')\n",
    "# plt.ylim([0., 1.])\n",
    "plt.legend()\n",
    "plt.show()"
   ]
  },
  {
   "cell_type": "code",
   "execution_count": 21,
   "id": "155c132d",
   "metadata": {},
   "outputs": [
    {
     "name": "stderr",
     "output_type": "stream",
     "text": [
      "2021-05-05 18:06:25,446 - DEBUG - Loaded backend module://ipykernel.pylab.backend_inline version unknown.\n"
     ]
    },
    {
     "data": {
      "image/png": "[encoded data removed]",
      "text/plain": [
       "<Figure size 432x288 with 1 Axes>"
      ]
     },
     "metadata": {
      "needs_background": "light"
     },
     "output_type": "display_data"
    }
   ],
   "source": [
    "%matplotlib inline\n",
    "typical_scores = scores[[not bool(b) for b in binary_labels]]\n",
    "\n",
    "novel_scores = scores[[bool(b) for b in binary_labels]]\n",
    "\n",
    "# plt.hist(scores, bins=25)\n",
    "plt.hist(novel_scores, bins=25, label='Novel', alpha=0.5)\n",
    "plt.hist(typical_scores, bins=25, label='Typical', alpha=0.5)\n",
    "\n",
    "plt.legend()\n",
    "plt.show()"
   ]
  },
  {
   "cell_type": "code",
   "execution_count": null,
   "id": "3e8c0a80",
   "metadata": {},
   "outputs": [],
   "source": []
  }
 ],
 "metadata": {
  "kernelspec": {
   "display_name": "Torch",
   "language": "python",
   "name": "torch"
  },
  "language_info": {
   "codemirror_mode": {
    "name": "ipython",
    "version": 3
   },
   "file_extension": ".py",
   "mimetype": "text/x-python",
   "name": "python",
   "nbconvert_exporter": "python",
   "pygments_lexer": "ipython3",
   "version": "3.8.8"
  }
 },
 "nbformat": 4,
 "nbformat_minor": 5
}
