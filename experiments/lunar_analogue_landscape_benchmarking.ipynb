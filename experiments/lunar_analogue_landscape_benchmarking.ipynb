{
 "cells": [
  {
   "cell_type": "code",
   "execution_count": 1,
   "id": "96706206",
   "metadata": {},
   "outputs": [],
   "source": [
    "import time\n",
    "import torch\n",
    "import pickle\n",
    "import os\n",
    "import pytorch_lightning as pl\n",
    "import numpy as np\n",
    "import matplotlib.pyplot as plt\n",
    "import pandas as pd\n",
    "\n",
    "from pathlib import Path\n",
    "from utils import tools, callbacks, metrics, supported_preprocessing_transforms\n",
    "from modules.cae_base_module import CAEBaseModule\n",
    "from modules.aae_base_module import AAEBaseModule\n",
    "from modules.vae_base_module import VAEBaseModule\n",
    "from datasets import supported_datamodules\n",
    "from models import supported_models\n",
    "from functools import reduce"
   ]
  },
  {
   "cell_type": "markdown",
   "id": "0a630fa3",
   "metadata": {},
   "source": [
    "# Landscape Detection with Generic Reconstructions\n",
    "\n",
    "In this experiment, the ability for various reconstruction-based algorithms to rank landscapes containing novel content is investigated."
   ]
  },
  {
   "cell_type": "code",
   "execution_count": 3,
   "id": "a49f562f",
   "metadata": {},
   "outputs": [
    {
     "name": "stdout",
     "output_type": "stream",
     "text": [
      "Found archived models:\n",
      "------\n",
      "BaselineVAE/archive_v2_2021-05-06\n",
      "BaselineVAE/archive_v1_2021-05-06\n",
      "BaselineCAE/archive_v3_2021-05-06\n",
      "BaselineCAE/archive_v2_2021-05-06\n",
      "BaselineCAE/archive_v1_2021-04-12\n"
     ]
    }
   ],
   "source": [
    "# Import configurations and paths to logged models\n",
    "root = Path.cwd() / '..'\n",
    "log_path = root / 'logs' / 'LunarAnalogueDataModule'\n",
    "paths_to_archived_models = list(Path(log_path).glob('**/archive_v*'))\n",
    "\n",
    "print('Found archived models:\\n------')\n",
    "print('\\n'.join([f'{p.parent.name}/{p.name}' for p in paths_to_archived_models]))"
   ]
  },
  {
   "cell_type": "code",
   "execution_count": 5,
   "id": "5cc46b81",
   "metadata": {},
   "outputs": [
    {
     "name": "stdout",
     "output_type": "stream",
     "text": [
      "Loaded state dict for: BaselineVAE/archive_v2_2021-05-06\n",
      "Loaded state dict for: BaselineVAE/archive_v1_2021-05-06\n",
      "Loaded state dict for: BaselineCAE/archive_v3_2021-05-06\n",
      "Loaded state dict for: BaselineCAE/archive_v2_2021-05-06\n",
      "Loaded state dict for: BaselineCAE/archive_v1_2021-04-12\n"
     ]
    }
   ],
   "source": [
    "# Load the checkpoints for all the training modules and save them in a dictionary\n",
    "module_catalog = {}\n",
    "\n",
    "for pth in paths_to_archived_models:\n",
    "    config = tools.load_config(pth / 'configuration.yaml', silent=True)\n",
    "    model_type = pth.parent.name\n",
    "    model_name = pth.name\n",
    "    ckpt_path = next(iter((pth / 'checkpoints').glob('val_*')))\n",
    "    \n",
    "    # Unsupervising region proposal is called implicity in this line, see utils/preprocessing.py\n",
    "    preprocessing_transforms = supported_preprocessing_transforms[config['data-parameters']['preprocessing']]\n",
    "    \n",
    "    datamodule = supported_datamodules[config['experiment-parameters']['datamodule']](\n",
    "        data_transforms=preprocessing_transforms,\n",
    "        **config['data-parameters'])\n",
    "    datamodule.setup('test')\n",
    "\n",
    "    # Handle the various model instantiations\n",
    "    if 'AAE' in model_type:\n",
    "        model = supported_models[model_type](\n",
    "            in_nodes=reduce(lambda x, y: x*y, datamodule.data_shape),\n",
    "            latent_nodes=config['module-parameters']['latent_nodes'])\n",
    "        module = AAEBaseModule(model, **config['module-parameters'])\n",
    "    elif 'VAE' in model_type:\n",
    "        model = supported_models[model_type](\n",
    "            in_shape=datamodule.data_shape,\n",
    "            latent_nodes=config['module-parameters']['latent_nodes'])\n",
    "        module = VAEBaseModule(model, **config['module-parameters'])\n",
    "    elif 'CAE' in model_type:\n",
    "        model = supported_models[model_type](in_shape=datamodule.data_shape)\n",
    "        module = CAEBaseModule(model, **config['module-parameters'])\n",
    "    else:\n",
    "        raise ValueError(f'Model substring not found, got {model_type}')\n",
    "        \n",
    "    # Load the state_dict into the module architecture\n",
    "    checkpoint = torch.load(ckpt_path)\n",
    "    module.load_state_dict(checkpoint['state_dict'])\n",
    "    \n",
    "    if model_type not in module_catalog:\n",
    "        module_catalog[model_type] = {}\n",
    "    module_catalog[model_type][model_name] = module\n",
    "    print(f'Loaded state dict for: {model_type}/{model_name}')"
   ]
  },
  {
   "cell_type": "code",
   "execution_count": null,
   "id": "973b8ae6",
   "metadata": {},
   "outputs": [],
   "source": []
  }
 ],
 "metadata": {
  "kernelspec": {
   "display_name": "Torch",
   "language": "python",
   "name": "torch"
  },
  "language_info": {
   "codemirror_mode": {
    "name": "ipython",
    "version": 3
   },
   "file_extension": ".py",
   "mimetype": "text/x-python",
   "name": "python",
   "nbconvert_exporter": "python",
   "pygments_lexer": "ipython3",
   "version": "3.8.8"
  }
 },
 "nbformat": 4,
 "nbformat_minor": 5
}
