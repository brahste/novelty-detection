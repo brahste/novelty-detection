{
 "cells": [
  {
   "cell_type": "code",
   "execution_count": 1,
   "metadata": {},
   "outputs": [],
   "source": [
    "import os\n",
    "import pytorch_lightning as pl\n",
    "\n",
    "from utils import tools\n",
    "from modules.cae_base_module import CAEBaseModule\n",
    "from models.reference_cae import ReferenceCAE\n",
    "from datasets.lunar_analogue import LunarAnalogueDataModule"
   ]
  },
  {
   "cell_type": "code",
   "execution_count": 2,
   "metadata": {},
   "outputs": [
    {
     "name": "stdout",
     "output_type": "stream",
     "text": [
      "Experimental parameters\n",
      "------\n",
      "root_data_path: /home/brahste/Datasets/LunarAnalogue\n",
      "glob_pattern_train: **/nov-labelled/trainval/*.jpeg\n",
      "glob_pattern_test: **/nov-labelled/test/**/*.jpeg\n",
      "train_fraction: 0.9\n",
      "batch_size: 16\n",
      "experiment_name: ReferenceCAE\n",
      "log_directory: logs\n",
      "learning_rate: 0.0005 \n",
      "\n"
     ]
    }
   ],
   "source": [
    "config = tools.config_from_command_line(os.path.join(os.getcwd(), '..', 'configs/reference_cae.yaml'))"
   ]
  },
  {
   "cell_type": "code",
   "execution_count": 3,
   "metadata": {},
   "outputs": [
    {
     "name": "stdout",
     "output_type": "stream",
     "text": [
      "<datasets.lunar_analogue.LunarAnalogueDataModule object at 0x7fd013a89490>\n"
     ]
    }
   ],
   "source": [
    "datamodule = LunarAnalogueDataModule(config)\n",
    "datamodule.setup('test')\n",
    "\n",
    "model = ReferenceCAE(config)\n",
    "\n",
    "m = CAEBaseModule.load_from_checkpoint(\n",
    "    '../logs/ReferenceCAE/version_0/checkpoints/epoch=24-step=6599.ckpt',\n",
    "    datamodule=datamodule,\n",
    "    model=model,\n",
    "    config=config\n",
    ")\n",
    "\n",
    "print(m.dm)"
   ]
  },
  {
   "cell_type": "code",
   "execution_count": 5,
   "metadata": {},
   "outputs": [
    {
     "name": "stderr",
     "output_type": "stream",
     "text": [
      "GPU available: True, used: False\n",
      "TPU available: None, using: 0 TPU cores\n",
      "/home/brahste/anaconda3/envs/torch/lib/python3.8/site-packages/pytorch_lightning/utilities/distributed.py:49: UserWarning: GPU available but not used. Set the --gpus flag when calling the script.\n",
      "  warnings.warn(*args, **kwargs)\n",
      "/home/brahste/anaconda3/envs/torch/lib/python3.8/site-packages/torch/storage.py:34: FutureWarning: pickle support for Storage will be removed in 1.5. Use `torch.save` instead\n",
      "  warnings.warn(\"pickle support for Storage will be removed in 1.5. Use `torch.save` instead\", FutureWarning)\n"
     ]
    },
    {
     "data": {
      "application/vnd.jupyter.widget-view+json": {
       "model_id": "6857a05552bd46ec8d0f166e166e5d15",
       "version_major": 2,
       "version_minor": 0
      },
      "text/plain": [
       "HBox(children=(HTML(value='Testing'), FloatProgress(value=1.0, bar_style='info', layout=Layout(flex='2'), max=…"
      ]
     },
     "metadata": {},
     "output_type": "display_data"
    },
    {
     "ename": "TypeError",
     "evalue": "forward() missing 1 required positional argument: 'target'",
     "output_type": "error",
     "traceback": [
      "\u001b[0;31m---------------------------------------------------------------------------\u001b[0m",
      "\u001b[0;31mTypeError\u001b[0m                                 Traceback (most recent call last)",
      "\u001b[0;32m<ipython-input-5-9cd1929b332a>\u001b[0m in \u001b[0;36m<module>\u001b[0;34m\u001b[0m\n\u001b[1;32m      1\u001b[0m \u001b[0mtrainer\u001b[0m \u001b[0;34m=\u001b[0m \u001b[0mpl\u001b[0m\u001b[0;34m.\u001b[0m\u001b[0mTrainer\u001b[0m\u001b[0;34m(\u001b[0m\u001b[0;34m)\u001b[0m\u001b[0;34m\u001b[0m\u001b[0;34m\u001b[0m\u001b[0m\n\u001b[0;32m----> 2\u001b[0;31m \u001b[0mtrainer\u001b[0m\u001b[0;34m.\u001b[0m\u001b[0mtest\u001b[0m\u001b[0;34m(\u001b[0m\u001b[0mm\u001b[0m\u001b[0;34m)\u001b[0m\u001b[0;34m\u001b[0m\u001b[0;34m\u001b[0m\u001b[0m\n\u001b[0m",
      "\u001b[0;32m~/anaconda3/envs/torch/lib/python3.8/site-packages/pytorch_lightning/trainer/trainer.py\u001b[0m in \u001b[0;36mtest\u001b[0;34m(self, model, test_dataloaders, ckpt_path, verbose, datamodule)\u001b[0m\n\u001b[1;32m    750\u001b[0m \u001b[0;34m\u001b[0m\u001b[0m\n\u001b[1;32m    751\u001b[0m         \u001b[0;32mif\u001b[0m \u001b[0mmodel\u001b[0m \u001b[0;32mis\u001b[0m \u001b[0;32mnot\u001b[0m \u001b[0;32mNone\u001b[0m\u001b[0;34m:\u001b[0m\u001b[0;34m\u001b[0m\u001b[0;34m\u001b[0m\u001b[0m\n\u001b[0;32m--> 752\u001b[0;31m             \u001b[0mresults\u001b[0m \u001b[0;34m=\u001b[0m \u001b[0mself\u001b[0m\u001b[0;34m.\u001b[0m\u001b[0m__test_given_model\u001b[0m\u001b[0;34m(\u001b[0m\u001b[0mmodel\u001b[0m\u001b[0;34m,\u001b[0m \u001b[0mtest_dataloaders\u001b[0m\u001b[0;34m)\u001b[0m\u001b[0;34m\u001b[0m\u001b[0;34m\u001b[0m\u001b[0m\n\u001b[0m\u001b[1;32m    753\u001b[0m         \u001b[0;32melse\u001b[0m\u001b[0;34m:\u001b[0m\u001b[0;34m\u001b[0m\u001b[0;34m\u001b[0m\u001b[0m\n\u001b[1;32m    754\u001b[0m             \u001b[0mresults\u001b[0m \u001b[0;34m=\u001b[0m \u001b[0mself\u001b[0m\u001b[0;34m.\u001b[0m\u001b[0m__test_using_best_weights\u001b[0m\u001b[0;34m(\u001b[0m\u001b[0mckpt_path\u001b[0m\u001b[0;34m,\u001b[0m \u001b[0mtest_dataloaders\u001b[0m\u001b[0;34m)\u001b[0m\u001b[0;34m\u001b[0m\u001b[0;34m\u001b[0m\u001b[0m\n",
      "\u001b[0;32m~/anaconda3/envs/torch/lib/python3.8/site-packages/pytorch_lightning/trainer/trainer.py\u001b[0m in \u001b[0;36m__test_given_model\u001b[0;34m(self, model, test_dataloaders)\u001b[0m\n\u001b[1;32m    815\u001b[0m         \u001b[0mself\u001b[0m\u001b[0;34m.\u001b[0m\u001b[0mtesting\u001b[0m \u001b[0;34m=\u001b[0m \u001b[0;32mTrue\u001b[0m\u001b[0;34m\u001b[0m\u001b[0;34m\u001b[0m\u001b[0m\n\u001b[1;32m    816\u001b[0m         \u001b[0mself\u001b[0m\u001b[0;34m.\u001b[0m\u001b[0mmodel\u001b[0m \u001b[0;34m=\u001b[0m \u001b[0mmodel\u001b[0m\u001b[0;34m\u001b[0m\u001b[0;34m\u001b[0m\u001b[0m\n\u001b[0;32m--> 817\u001b[0;31m         \u001b[0mresults\u001b[0m \u001b[0;34m=\u001b[0m \u001b[0mself\u001b[0m\u001b[0;34m.\u001b[0m\u001b[0mfit\u001b[0m\u001b[0;34m(\u001b[0m\u001b[0mmodel\u001b[0m\u001b[0;34m)\u001b[0m\u001b[0;34m\u001b[0m\u001b[0;34m\u001b[0m\u001b[0m\n\u001b[0m\u001b[1;32m    818\u001b[0m         \u001b[0mself\u001b[0m\u001b[0;34m.\u001b[0m\u001b[0mtesting\u001b[0m \u001b[0;34m=\u001b[0m \u001b[0;32mFalse\u001b[0m\u001b[0;34m\u001b[0m\u001b[0;34m\u001b[0m\u001b[0m\n\u001b[1;32m    819\u001b[0m \u001b[0;34m\u001b[0m\u001b[0m\n",
      "\u001b[0;32m~/anaconda3/envs/torch/lib/python3.8/site-packages/pytorch_lightning/trainer/trainer.py\u001b[0m in \u001b[0;36mfit\u001b[0;34m(self, model, train_dataloader, val_dataloaders, datamodule)\u001b[0m\n\u001b[1;32m    468\u001b[0m         \u001b[0mself\u001b[0m\u001b[0;34m.\u001b[0m\u001b[0mcall_hook\u001b[0m\u001b[0;34m(\u001b[0m\u001b[0;34m'on_fit_start'\u001b[0m\u001b[0;34m)\u001b[0m\u001b[0;34m\u001b[0m\u001b[0;34m\u001b[0m\u001b[0m\n\u001b[1;32m    469\u001b[0m \u001b[0;34m\u001b[0m\u001b[0m\n\u001b[0;32m--> 470\u001b[0;31m         \u001b[0mresults\u001b[0m \u001b[0;34m=\u001b[0m \u001b[0mself\u001b[0m\u001b[0;34m.\u001b[0m\u001b[0maccelerator_backend\u001b[0m\u001b[0;34m.\u001b[0m\u001b[0mtrain\u001b[0m\u001b[0;34m(\u001b[0m\u001b[0;34m)\u001b[0m\u001b[0;34m\u001b[0m\u001b[0;34m\u001b[0m\u001b[0m\n\u001b[0m\u001b[1;32m    471\u001b[0m         \u001b[0mself\u001b[0m\u001b[0;34m.\u001b[0m\u001b[0maccelerator_backend\u001b[0m\u001b[0;34m.\u001b[0m\u001b[0mteardown\u001b[0m\u001b[0;34m(\u001b[0m\u001b[0;34m)\u001b[0m\u001b[0;34m\u001b[0m\u001b[0;34m\u001b[0m\u001b[0m\n\u001b[1;32m    472\u001b[0m \u001b[0;34m\u001b[0m\u001b[0m\n",
      "\u001b[0;32m~/anaconda3/envs/torch/lib/python3.8/site-packages/pytorch_lightning/accelerators/cpu_accelerator.py\u001b[0m in \u001b[0;36mtrain\u001b[0;34m(self)\u001b[0m\n\u001b[1;32m     60\u001b[0m \u001b[0;34m\u001b[0m\u001b[0m\n\u001b[1;32m     61\u001b[0m         \u001b[0;31m# train or test\u001b[0m\u001b[0;34m\u001b[0m\u001b[0;34m\u001b[0m\u001b[0;34m\u001b[0m\u001b[0m\n\u001b[0;32m---> 62\u001b[0;31m         \u001b[0mresults\u001b[0m \u001b[0;34m=\u001b[0m \u001b[0mself\u001b[0m\u001b[0;34m.\u001b[0m\u001b[0mtrain_or_test\u001b[0m\u001b[0;34m(\u001b[0m\u001b[0;34m)\u001b[0m\u001b[0;34m\u001b[0m\u001b[0;34m\u001b[0m\u001b[0m\n\u001b[0m\u001b[1;32m     63\u001b[0m         \u001b[0;32mreturn\u001b[0m \u001b[0mresults\u001b[0m\u001b[0;34m\u001b[0m\u001b[0;34m\u001b[0m\u001b[0m\n\u001b[1;32m     64\u001b[0m \u001b[0;34m\u001b[0m\u001b[0m\n",
      "\u001b[0;32m~/anaconda3/envs/torch/lib/python3.8/site-packages/pytorch_lightning/accelerators/accelerator.py\u001b[0m in \u001b[0;36mtrain_or_test\u001b[0;34m(self)\u001b[0m\n\u001b[1;32m     65\u001b[0m     \u001b[0;32mdef\u001b[0m \u001b[0mtrain_or_test\u001b[0m\u001b[0;34m(\u001b[0m\u001b[0mself\u001b[0m\u001b[0;34m)\u001b[0m\u001b[0;34m:\u001b[0m\u001b[0;34m\u001b[0m\u001b[0;34m\u001b[0m\u001b[0m\n\u001b[1;32m     66\u001b[0m         \u001b[0;32mif\u001b[0m \u001b[0mself\u001b[0m\u001b[0;34m.\u001b[0m\u001b[0mtrainer\u001b[0m\u001b[0;34m.\u001b[0m\u001b[0mtesting\u001b[0m\u001b[0;34m:\u001b[0m\u001b[0;34m\u001b[0m\u001b[0;34m\u001b[0m\u001b[0m\n\u001b[0;32m---> 67\u001b[0;31m             \u001b[0mresults\u001b[0m \u001b[0;34m=\u001b[0m \u001b[0mself\u001b[0m\u001b[0;34m.\u001b[0m\u001b[0mtrainer\u001b[0m\u001b[0;34m.\u001b[0m\u001b[0mrun_test\u001b[0m\u001b[0;34m(\u001b[0m\u001b[0;34m)\u001b[0m\u001b[0;34m\u001b[0m\u001b[0;34m\u001b[0m\u001b[0m\n\u001b[0m\u001b[1;32m     68\u001b[0m         \u001b[0;32melse\u001b[0m\u001b[0;34m:\u001b[0m\u001b[0;34m\u001b[0m\u001b[0;34m\u001b[0m\u001b[0m\n\u001b[1;32m     69\u001b[0m             \u001b[0mresults\u001b[0m \u001b[0;34m=\u001b[0m \u001b[0mself\u001b[0m\u001b[0;34m.\u001b[0m\u001b[0mtrainer\u001b[0m\u001b[0;34m.\u001b[0m\u001b[0mtrain\u001b[0m\u001b[0;34m(\u001b[0m\u001b[0;34m)\u001b[0m\u001b[0;34m\u001b[0m\u001b[0;34m\u001b[0m\u001b[0m\n",
      "\u001b[0;32m~/anaconda3/envs/torch/lib/python3.8/site-packages/pytorch_lightning/trainer/trainer.py\u001b[0m in \u001b[0;36mrun_test\u001b[0;34m(self)\u001b[0m\n\u001b[1;32m    657\u001b[0m         \u001b[0;31m# self.reset_test_dataloader(ref_model)\u001b[0m\u001b[0;34m\u001b[0m\u001b[0;34m\u001b[0m\u001b[0;34m\u001b[0m\u001b[0m\n\u001b[1;32m    658\u001b[0m         \u001b[0;32mwith\u001b[0m \u001b[0mself\u001b[0m\u001b[0;34m.\u001b[0m\u001b[0mprofiler\u001b[0m\u001b[0;34m.\u001b[0m\u001b[0mprofile\u001b[0m\u001b[0;34m(\u001b[0m\u001b[0;34m\"run_test_evaluation\"\u001b[0m\u001b[0;34m)\u001b[0m\u001b[0;34m:\u001b[0m\u001b[0;34m\u001b[0m\u001b[0;34m\u001b[0m\u001b[0m\n\u001b[0;32m--> 659\u001b[0;31m             \u001b[0meval_loop_results\u001b[0m\u001b[0;34m,\u001b[0m \u001b[0m_\u001b[0m \u001b[0;34m=\u001b[0m \u001b[0mself\u001b[0m\u001b[0;34m.\u001b[0m\u001b[0mrun_evaluation\u001b[0m\u001b[0;34m(\u001b[0m\u001b[0mtest_mode\u001b[0m\u001b[0;34m=\u001b[0m\u001b[0;32mTrue\u001b[0m\u001b[0;34m)\u001b[0m\u001b[0;34m\u001b[0m\u001b[0;34m\u001b[0m\u001b[0m\n\u001b[0m\u001b[1;32m    660\u001b[0m \u001b[0;34m\u001b[0m\u001b[0m\n\u001b[1;32m    661\u001b[0m         \u001b[0;32mif\u001b[0m \u001b[0mlen\u001b[0m\u001b[0;34m(\u001b[0m\u001b[0meval_loop_results\u001b[0m\u001b[0;34m)\u001b[0m \u001b[0;34m==\u001b[0m \u001b[0;36m0\u001b[0m\u001b[0;34m:\u001b[0m\u001b[0;34m\u001b[0m\u001b[0;34m\u001b[0m\u001b[0m\n",
      "\u001b[0;32m~/anaconda3/envs/torch/lib/python3.8/site-packages/pytorch_lightning/trainer/trainer.py\u001b[0m in \u001b[0;36mrun_evaluation\u001b[0;34m(self, test_mode, max_batches)\u001b[0m\n\u001b[1;32m    604\u001b[0m                 \u001b[0;31m# lightning module methods\u001b[0m\u001b[0;34m\u001b[0m\u001b[0;34m\u001b[0m\u001b[0;34m\u001b[0m\u001b[0m\n\u001b[1;32m    605\u001b[0m                 \u001b[0;32mwith\u001b[0m \u001b[0mself\u001b[0m\u001b[0;34m.\u001b[0m\u001b[0mprofiler\u001b[0m\u001b[0;34m.\u001b[0m\u001b[0mprofile\u001b[0m\u001b[0;34m(\u001b[0m\u001b[0;34m\"evaluation_step_and_end\"\u001b[0m\u001b[0;34m)\u001b[0m\u001b[0;34m:\u001b[0m\u001b[0;34m\u001b[0m\u001b[0;34m\u001b[0m\u001b[0m\n\u001b[0;32m--> 606\u001b[0;31m                     \u001b[0moutput\u001b[0m \u001b[0;34m=\u001b[0m \u001b[0mself\u001b[0m\u001b[0;34m.\u001b[0m\u001b[0mevaluation_loop\u001b[0m\u001b[0;34m.\u001b[0m\u001b[0mevaluation_step\u001b[0m\u001b[0;34m(\u001b[0m\u001b[0mtest_mode\u001b[0m\u001b[0;34m,\u001b[0m \u001b[0mbatch\u001b[0m\u001b[0;34m,\u001b[0m \u001b[0mbatch_idx\u001b[0m\u001b[0;34m,\u001b[0m \u001b[0mdataloader_idx\u001b[0m\u001b[0;34m)\u001b[0m\u001b[0;34m\u001b[0m\u001b[0;34m\u001b[0m\u001b[0m\n\u001b[0m\u001b[1;32m    607\u001b[0m                     \u001b[0moutput\u001b[0m \u001b[0;34m=\u001b[0m \u001b[0mself\u001b[0m\u001b[0;34m.\u001b[0m\u001b[0mevaluation_loop\u001b[0m\u001b[0;34m.\u001b[0m\u001b[0mevaluation_step_end\u001b[0m\u001b[0;34m(\u001b[0m\u001b[0moutput\u001b[0m\u001b[0;34m)\u001b[0m\u001b[0;34m\u001b[0m\u001b[0;34m\u001b[0m\u001b[0m\n\u001b[1;32m    608\u001b[0m \u001b[0;34m\u001b[0m\u001b[0m\n",
      "\u001b[0;32m~/anaconda3/envs/torch/lib/python3.8/site-packages/pytorch_lightning/trainer/evaluation_loop.py\u001b[0m in \u001b[0;36mevaluation_step\u001b[0;34m(self, test_mode, batch, batch_idx, dataloader_idx)\u001b[0m\n\u001b[1;32m    173\u001b[0m         \u001b[0;32mif\u001b[0m \u001b[0mself\u001b[0m\u001b[0;34m.\u001b[0m\u001b[0mtesting\u001b[0m\u001b[0;34m:\u001b[0m\u001b[0;34m\u001b[0m\u001b[0;34m\u001b[0m\u001b[0m\n\u001b[1;32m    174\u001b[0m             \u001b[0mmodel_ref\u001b[0m\u001b[0;34m.\u001b[0m\u001b[0m_current_fx_name\u001b[0m \u001b[0;34m=\u001b[0m \u001b[0;34m\"test_step\"\u001b[0m\u001b[0;34m\u001b[0m\u001b[0;34m\u001b[0m\u001b[0m\n\u001b[0;32m--> 175\u001b[0;31m             \u001b[0moutput\u001b[0m \u001b[0;34m=\u001b[0m \u001b[0mself\u001b[0m\u001b[0;34m.\u001b[0m\u001b[0mtrainer\u001b[0m\u001b[0;34m.\u001b[0m\u001b[0maccelerator_backend\u001b[0m\u001b[0;34m.\u001b[0m\u001b[0mtest_step\u001b[0m\u001b[0;34m(\u001b[0m\u001b[0margs\u001b[0m\u001b[0;34m)\u001b[0m\u001b[0;34m\u001b[0m\u001b[0;34m\u001b[0m\u001b[0m\n\u001b[0m\u001b[1;32m    176\u001b[0m         \u001b[0;32melse\u001b[0m\u001b[0;34m:\u001b[0m\u001b[0;34m\u001b[0m\u001b[0;34m\u001b[0m\u001b[0m\n\u001b[1;32m    177\u001b[0m             \u001b[0mmodel_ref\u001b[0m\u001b[0;34m.\u001b[0m\u001b[0m_current_fx_name\u001b[0m \u001b[0;34m=\u001b[0m \u001b[0;34m\"validation_step\"\u001b[0m\u001b[0;34m\u001b[0m\u001b[0;34m\u001b[0m\u001b[0m\n",
      "\u001b[0;32m~/anaconda3/envs/torch/lib/python3.8/site-packages/pytorch_lightning/accelerators/cpu_accelerator.py\u001b[0m in \u001b[0;36mtest_step\u001b[0;34m(self, args)\u001b[0m\n\u001b[1;32m     78\u001b[0m \u001b[0;34m\u001b[0m\u001b[0m\n\u001b[1;32m     79\u001b[0m     \u001b[0;32mdef\u001b[0m \u001b[0mtest_step\u001b[0m\u001b[0;34m(\u001b[0m\u001b[0mself\u001b[0m\u001b[0;34m,\u001b[0m \u001b[0margs\u001b[0m\u001b[0;34m)\u001b[0m\u001b[0;34m:\u001b[0m\u001b[0;34m\u001b[0m\u001b[0;34m\u001b[0m\u001b[0m\n\u001b[0;32m---> 80\u001b[0;31m         \u001b[0;32mreturn\u001b[0m \u001b[0mself\u001b[0m\u001b[0;34m.\u001b[0m\u001b[0m_step\u001b[0m\u001b[0;34m(\u001b[0m\u001b[0mself\u001b[0m\u001b[0;34m.\u001b[0m\u001b[0mtrainer\u001b[0m\u001b[0;34m.\u001b[0m\u001b[0mmodel\u001b[0m\u001b[0;34m.\u001b[0m\u001b[0mtest_step\u001b[0m\u001b[0;34m,\u001b[0m \u001b[0margs\u001b[0m\u001b[0;34m)\u001b[0m\u001b[0;34m\u001b[0m\u001b[0;34m\u001b[0m\u001b[0m\n\u001b[0m\u001b[1;32m     81\u001b[0m \u001b[0;34m\u001b[0m\u001b[0m\n\u001b[1;32m     82\u001b[0m     def sync_tensor(self,\n",
      "\u001b[0;32m~/anaconda3/envs/torch/lib/python3.8/site-packages/pytorch_lightning/accelerators/cpu_accelerator.py\u001b[0m in \u001b[0;36m_step\u001b[0;34m(self, model_step, args)\u001b[0m\n\u001b[1;32m     68\u001b[0m                 \u001b[0moutput\u001b[0m \u001b[0;34m=\u001b[0m \u001b[0mmodel_step\u001b[0m\u001b[0;34m(\u001b[0m\u001b[0;34m*\u001b[0m\u001b[0margs\u001b[0m\u001b[0;34m)\u001b[0m\u001b[0;34m\u001b[0m\u001b[0;34m\u001b[0m\u001b[0m\n\u001b[1;32m     69\u001b[0m         \u001b[0;32melse\u001b[0m\u001b[0;34m:\u001b[0m\u001b[0;34m\u001b[0m\u001b[0;34m\u001b[0m\u001b[0m\n\u001b[0;32m---> 70\u001b[0;31m             \u001b[0moutput\u001b[0m \u001b[0;34m=\u001b[0m \u001b[0mmodel_step\u001b[0m\u001b[0;34m(\u001b[0m\u001b[0;34m*\u001b[0m\u001b[0margs\u001b[0m\u001b[0;34m)\u001b[0m\u001b[0;34m\u001b[0m\u001b[0;34m\u001b[0m\u001b[0m\n\u001b[0m\u001b[1;32m     71\u001b[0m         \u001b[0;32mreturn\u001b[0m \u001b[0moutput\u001b[0m\u001b[0;34m\u001b[0m\u001b[0;34m\u001b[0m\u001b[0m\n\u001b[1;32m     72\u001b[0m \u001b[0;34m\u001b[0m\u001b[0m\n",
      "\u001b[0;32m~/Projects/novelty-detection/modules/cae_base_module.py\u001b[0m in \u001b[0;36mtest_step\u001b[0;34m(self, x_in, batch_nb)\u001b[0m\n\u001b[1;32m    100\u001b[0m \u001b[0;34m\u001b[0m\u001b[0m\n\u001b[1;32m    101\u001b[0m         \u001b[0mx_rc\u001b[0m \u001b[0;34m=\u001b[0m \u001b[0mself\u001b[0m\u001b[0;34m(\u001b[0m\u001b[0mx_in\u001b[0m\u001b[0;34m)\u001b[0m\u001b[0;34m\u001b[0m\u001b[0;34m\u001b[0m\u001b[0m\n\u001b[0;32m--> 102\u001b[0;31m         \u001b[0mloss\u001b[0m \u001b[0;34m=\u001b[0m \u001b[0mself\u001b[0m\u001b[0;34m.\u001b[0m\u001b[0mloss_function\u001b[0m\u001b[0;34m(\u001b[0m\u001b[0mx_rc\u001b[0m\u001b[0;34m)\u001b[0m\u001b[0;34m\u001b[0m\u001b[0;34m\u001b[0m\u001b[0m\n\u001b[0m\u001b[1;32m    103\u001b[0m \u001b[0;34m\u001b[0m\u001b[0m\n\u001b[1;32m    104\u001b[0m         \u001b[0mprint\u001b[0m\u001b[0;34m(\u001b[0m\u001b[0mloss\u001b[0m\u001b[0;34m)\u001b[0m\u001b[0;34m\u001b[0m\u001b[0;34m\u001b[0m\u001b[0m\n",
      "\u001b[0;32m~/anaconda3/envs/torch/lib/python3.8/site-packages/torch/nn/modules/module.py\u001b[0m in \u001b[0;36m__call__\u001b[0;34m(self, *input, **kwargs)\u001b[0m\n\u001b[1;32m    548\u001b[0m             \u001b[0mresult\u001b[0m \u001b[0;34m=\u001b[0m \u001b[0mself\u001b[0m\u001b[0;34m.\u001b[0m\u001b[0m_slow_forward\u001b[0m\u001b[0;34m(\u001b[0m\u001b[0;34m*\u001b[0m\u001b[0minput\u001b[0m\u001b[0;34m,\u001b[0m \u001b[0;34m**\u001b[0m\u001b[0mkwargs\u001b[0m\u001b[0;34m)\u001b[0m\u001b[0;34m\u001b[0m\u001b[0;34m\u001b[0m\u001b[0m\n\u001b[1;32m    549\u001b[0m         \u001b[0;32melse\u001b[0m\u001b[0;34m:\u001b[0m\u001b[0;34m\u001b[0m\u001b[0;34m\u001b[0m\u001b[0m\n\u001b[0;32m--> 550\u001b[0;31m             \u001b[0mresult\u001b[0m \u001b[0;34m=\u001b[0m \u001b[0mself\u001b[0m\u001b[0;34m.\u001b[0m\u001b[0mforward\u001b[0m\u001b[0;34m(\u001b[0m\u001b[0;34m*\u001b[0m\u001b[0minput\u001b[0m\u001b[0;34m,\u001b[0m \u001b[0;34m**\u001b[0m\u001b[0mkwargs\u001b[0m\u001b[0;34m)\u001b[0m\u001b[0;34m\u001b[0m\u001b[0;34m\u001b[0m\u001b[0m\n\u001b[0m\u001b[1;32m    551\u001b[0m         \u001b[0;32mfor\u001b[0m \u001b[0mhook\u001b[0m \u001b[0;32min\u001b[0m \u001b[0mself\u001b[0m\u001b[0;34m.\u001b[0m\u001b[0m_forward_hooks\u001b[0m\u001b[0;34m.\u001b[0m\u001b[0mvalues\u001b[0m\u001b[0;34m(\u001b[0m\u001b[0;34m)\u001b[0m\u001b[0;34m:\u001b[0m\u001b[0;34m\u001b[0m\u001b[0;34m\u001b[0m\u001b[0m\n\u001b[1;32m    552\u001b[0m             \u001b[0mhook_result\u001b[0m \u001b[0;34m=\u001b[0m \u001b[0mhook\u001b[0m\u001b[0;34m(\u001b[0m\u001b[0mself\u001b[0m\u001b[0;34m,\u001b[0m \u001b[0minput\u001b[0m\u001b[0;34m,\u001b[0m \u001b[0mresult\u001b[0m\u001b[0;34m)\u001b[0m\u001b[0;34m\u001b[0m\u001b[0;34m\u001b[0m\u001b[0m\n",
      "\u001b[0;31mTypeError\u001b[0m: forward() missing 1 required positional argument: 'target'"
     ]
    }
   ],
   "source": [
    "trainer = pl.Trainer()\n",
    "trainer.test(m)"
   ]
  },
  {
   "cell_type": "code",
   "execution_count": 4,
   "metadata": {},
   "outputs": [
    {
     "name": "stdout",
     "output_type": "stream",
     "text": [
      "tensor([[[[-1.6975, -1.6975, -1.6833,  ..., -1.4434, -1.4434, -1.4575],\n",
      "          [-1.6975, -1.6975, -1.6975,  ..., -1.4293, -1.4575, -1.4434],\n",
      "          [-1.6975, -1.6975, -1.6833,  ..., -1.4575, -1.4575, -1.4293],\n",
      "          ...,\n",
      "          [-1.2175, -1.3022, -1.2881,  ...,  0.9987,  1.1399,  0.8858],\n",
      "          [-1.2599, -1.2740, -1.3022,  ...,  1.0693,  1.0693,  1.0410],\n",
      "          [-1.3022, -1.2599, -1.3446,  ...,  0.9281,  1.0693,  0.9987]],\n",
      "\n",
      "         [[-1.7054, -1.7054, -1.6922,  ..., -1.4138, -1.4138, -1.4270],\n",
      "          [-1.7054, -1.7054, -1.7054,  ..., -1.4270, -1.4270, -1.4138],\n",
      "          [-1.7054, -1.7054, -1.6922,  ..., -1.4270, -1.4138, -1.4270],\n",
      "          ...,\n",
      "          [-1.2281, -1.3077, -1.2944,  ...,  0.8798,  1.0124,  0.7737],\n",
      "          [-1.2679, -1.2812, -1.3077,  ...,  0.9461,  0.9461,  0.9328],\n",
      "          [-1.3077, -1.2679, -1.3475,  ...,  0.8135,  0.9461,  0.8798]],\n",
      "\n",
      "         [[-1.5995, -1.5995, -1.5855,  ..., -1.3049, -1.3049, -1.3189],\n",
      "          [-1.5995, -1.5995, -1.5995,  ..., -1.3189, -1.3189, -1.3049],\n",
      "          [-1.6136, -1.5995, -1.5855,  ..., -1.3189, -1.3330, -1.3189],\n",
      "          ...,\n",
      "          [-1.2488, -1.3330, -1.3189,  ...,  0.8978,  1.0381,  0.7856],\n",
      "          [-1.3049, -1.3049, -1.3330,  ...,  0.9680,  0.9680,  0.9119],\n",
      "          [-1.3470, -1.3049, -1.3751,  ...,  0.8838,  0.9680,  0.8978]]],\n",
      "\n",
      "\n",
      "        [[[-1.6629, -1.6221, -1.5676,  ..., -1.7446, -1.7446, -1.7446],\n",
      "          [-1.6357, -1.6221, -1.5948,  ..., -1.7582, -1.7582, -1.7310],\n",
      "          [-1.6357, -1.6357, -1.6357,  ..., -1.7446, -1.7446, -1.7582],\n",
      "          ...,\n",
      "          [-1.6085, -1.2273, -1.1593,  ...,  0.7871,  0.3107,  0.2155],\n",
      "          [-1.6085, -1.6085, -1.4315,  ...,  0.9232,  0.8960,  0.8144],\n",
      "          [-1.6085, -1.6085, -1.3226,  ...,  1.0049,  0.9777,  0.9232]],\n",
      "\n",
      "         [[-1.6547, -1.6144, -1.5606,  ..., -1.7354, -1.7354, -1.7354],\n",
      "          [-1.6278, -1.6144, -1.5875,  ..., -1.7489, -1.7489, -1.7220],\n",
      "          [-1.6278, -1.6278, -1.6278,  ..., -1.7354, -1.7354, -1.7489],\n",
      "          ...,\n",
      "          [-1.6144, -1.2378, -1.1706,  ...,  0.7528,  0.3493,  0.2282],\n",
      "          [-1.6144, -1.6144, -1.4395,  ...,  0.9276,  0.9007,  0.7797],\n",
      "          [-1.6144, -1.6144, -1.3320,  ...,  0.9680,  0.9411,  0.8873]],\n",
      "\n",
      "         [[-1.5587, -1.5443, -1.5156,  ..., -1.6736, -1.6736, -1.6736],\n",
      "          [-1.5874, -1.5443, -1.5156,  ..., -1.6880, -1.6880, -1.6305],\n",
      "          [-1.5587, -1.5587, -1.5587,  ..., -1.6736, -1.6736, -1.6593],\n",
      "          ...,\n",
      "          [-1.5731, -1.1995, -1.1420,  ...,  0.6973,  0.2087,  0.1225],\n",
      "          [-1.6018, -1.5731, -1.4150,  ...,  0.8410,  0.8410,  0.7260],\n",
      "          [-1.6162, -1.6018, -1.2713,  ...,  0.9272,  0.8984,  0.8122]]],\n",
      "\n",
      "\n",
      "        [[[-1.7255, -1.7255, -1.7120,  ..., -1.5900, -1.5900, -1.6036],\n",
      "          [-1.7255, -1.7120, -1.7120,  ..., -1.5900, -1.5629, -1.5765],\n",
      "          [-1.7120, -1.7120, -1.7120,  ..., -1.6036, -1.5765, -1.5900],\n",
      "          ...,\n",
      "          [-0.6821, -0.6550, -0.3162,  ...,  0.3885, -0.0722,  0.2801],\n",
      "          [-0.5737, -1.0886, -0.4923,  ..., -0.2349, -0.5601, -0.0451],\n",
      "          [-1.0209, -1.0886, -0.8853,  ..., -0.1807, -0.7092, -0.4517]],\n",
      "\n",
      "         [[-1.7196, -1.7196, -1.7062,  ..., -1.5858, -1.5858, -1.5992],\n",
      "          [-1.7196, -1.7062, -1.7062,  ..., -1.5858, -1.5590, -1.5724],\n",
      "          [-1.7062, -1.7062, -1.7062,  ..., -1.5992, -1.5724, -1.5858],\n",
      "          ...,\n",
      "          [-0.6891, -0.6490, -0.3144,  ...,  0.3279, -0.1271,  0.2476],\n",
      "          [-0.5821, -1.0906, -0.5018,  ..., -0.2877, -0.6490, -0.1405],\n",
      "          [-1.0237, -1.0906, -0.8899,  ..., -0.2609, -0.7828, -0.5419]],\n",
      "\n",
      "         [[-1.6141, -1.6141, -1.5996,  ..., -1.4689, -1.4689, -1.4834],\n",
      "          [-1.6141, -1.5996, -1.6286,  ..., -1.4689, -1.4398, -1.4543],\n",
      "          [-1.5996, -1.5996, -1.5996,  ..., -1.4834, -1.4543, -1.4689],\n",
      "          ...,\n",
      "          [-0.6410, -0.6555, -0.2924,  ...,  0.3612, -0.1617,  0.2595],\n",
      "          [-0.4957, -1.0767, -0.4376,  ..., -0.3360, -0.6845, -0.0745],\n",
      "          [-1.0041, -1.0767, -0.8588,  ..., -0.3069, -0.8734, -0.5393]]],\n",
      "\n",
      "\n",
      "        ...,\n",
      "\n",
      "\n",
      "        [[[-1.2687, -1.2958, -1.3771,  ..., -0.7128, -1.0924, -1.0924],\n",
      "          [-1.3636, -1.3636, -1.4449,  ..., -1.0653, -1.3364, -1.3093],\n",
      "          [-1.4991, -1.5127, -1.4449,  ..., -1.1873, -1.3771, -1.3636],\n",
      "          ...,\n",
      "          [-1.6889, -1.6889, -1.7296,  ..., -0.4417, -0.0350, -0.9840],\n",
      "          [-1.6211, -1.6347, -1.7025,  ..., -1.0653, -1.0517, -1.3907],\n",
      "          [-1.6754, -1.6618, -1.6754,  ..., -1.2687, -1.5398, -1.4449]],\n",
      "\n",
      "         [[-1.2842, -1.3112, -1.3923,  ..., -0.7032, -1.0815, -1.0815],\n",
      "          [-1.3788, -1.3788, -1.4599,  ..., -1.0545, -1.3247, -1.2977],\n",
      "          [-1.5139, -1.5274, -1.4599,  ..., -1.1761, -1.3653, -1.3518],\n",
      "          ...,\n",
      "          [-1.7166, -1.7166, -1.7571,  ..., -0.4735, -0.0681, -0.9869],\n",
      "          [-1.6490, -1.6355, -1.7301,  ..., -1.0950, -1.0545, -1.4058],\n",
      "          [-1.7031, -1.6896, -1.7031,  ..., -1.2707, -1.5544, -1.4463]],\n",
      "\n",
      "         [[-1.2206, -1.2481, -1.3305,  ..., -0.6574, -1.0420, -1.0420],\n",
      "          [-1.3168, -1.3168, -1.3992,  ..., -1.0146, -1.2893, -1.2618],\n",
      "          [-1.4541, -1.4679, -1.3992,  ..., -1.1382, -1.3305, -1.3168],\n",
      "          ...,\n",
      "          [-1.6465, -1.6465, -1.6465,  ..., -0.4651, -0.0530, -1.0008],\n",
      "          [-1.6465, -1.6465, -1.6465,  ..., -1.0970, -1.0695, -1.3855],\n",
      "          [-1.6465, -1.6465, -1.6465,  ..., -1.2893, -1.5366, -1.4679]]],\n",
      "\n",
      "\n",
      "        [[[-1.0515, -1.0651, -1.0380,  ..., -1.6616, -1.6616, -1.6209],\n",
      "          [-1.0515, -1.0515, -1.0515,  ..., -1.6616, -1.6209, -1.6209],\n",
      "          [-1.0786, -1.0380, -1.0515,  ..., -1.6616, -1.6209, -1.7294],\n",
      "          ...,\n",
      "          [-0.2245,  1.0228,  1.3617,  ...,  0.9414,  0.5889,  0.8872],\n",
      "          [ 1.2261,  1.4837,  0.9008,  ...,  0.9685,  0.3042,  0.3042],\n",
      "          [ 1.5922,  1.4837,  1.0906,  ...,  0.8194, -0.5228, -0.4685]],\n",
      "\n",
      "         [[-1.0652, -1.0787, -1.0518,  ..., -1.6571, -1.6571, -1.6168],\n",
      "          [-1.0652, -1.0652, -1.0652,  ..., -1.6571, -1.6168, -1.6168],\n",
      "          [-1.0921, -1.0518, -1.0652,  ..., -1.6571, -1.6168, -1.7244],\n",
      "          ...,\n",
      "          [-0.2312,  1.0065,  1.3563,  ...,  0.9392,  0.5895,  0.8451],\n",
      "          [ 1.2352,  1.4773,  0.8047,  ...,  0.9258,  0.2666,  0.2666],\n",
      "          [ 1.4773,  1.4101,  1.0334,  ...,  0.7778, -0.5540, -0.5137]],\n",
      "\n",
      "         [[-0.8892, -0.9039, -0.8745,  ..., -1.6108, -1.6108, -1.5666],\n",
      "          [-0.8745, -0.8745, -0.8745,  ..., -1.6108, -1.5666, -1.5666],\n",
      "          [-0.9039, -0.8597, -0.8745,  ..., -1.6108, -1.5666, -1.6844],\n",
      "          ...,\n",
      "          [-0.1676,  1.1284,  1.4818,  ...,  1.0253,  0.6424,  0.9516],\n",
      "          [ 1.3934,  1.6144,  0.9075,  ...,  1.0253,  0.3037,  0.3184],\n",
      "          [ 1.6733,  1.5849,  1.1136,  ...,  0.8780, -0.5799, -0.4916]]],\n",
      "\n",
      "\n",
      "        [[[-1.7169, -1.7169, -1.7032,  ..., -1.4567, -1.4567, -1.4293],\n",
      "          [-1.7169, -1.7169, -1.7032,  ..., -1.4978, -1.4567, -1.4567],\n",
      "          [-1.7169, -1.7032, -1.7032,  ..., -1.4567, -1.4293, -1.4293],\n",
      "          ...,\n",
      "          [ 0.7076, -0.4978, -0.7033,  ...,  0.7487,  0.9816,  1.2555],\n",
      "          [ 0.3926, -0.6759, -0.8266,  ...,  0.4884,  0.3926,  0.6528],\n",
      "          [-0.1554, -0.6759, -0.7307,  ...,  0.2830,  0.1734,  0.1460]],\n",
      "\n",
      "         [[-1.7417, -1.7417, -1.7283,  ..., -1.4729, -1.4729, -1.4460],\n",
      "          [-1.7417, -1.7417, -1.7283,  ..., -1.5133, -1.4729, -1.4729],\n",
      "          [-1.7417, -1.7283, -1.7283,  ..., -1.4729, -1.4460, -1.4460],\n",
      "          ...,\n",
      "          [ 0.6776, -0.5052, -0.7068,  ...,  0.7180,  0.9465,  1.2153],\n",
      "          [ 0.3685, -0.6799, -0.8278,  ...,  0.4626,  0.3685,  0.6239],\n",
      "          [-0.1691, -0.6799, -0.7337,  ...,  0.2610,  0.1534,  0.0997]],\n",
      "\n",
      "         [[-1.6872, -1.6872, -1.6734,  ..., -1.4100, -1.4100, -1.3823],\n",
      "          [-1.6872, -1.6872, -1.6734,  ..., -1.4516, -1.4100, -1.4100],\n",
      "          [-1.6872, -1.6734, -1.6734,  ..., -1.4100, -1.3823, -1.3823],\n",
      "          ...,\n",
      "          [ 0.6830, -0.5368, -0.7447,  ...,  0.7246,  0.9602,  1.2375],\n",
      "          [ 0.3365, -0.7170, -0.8694,  ...,  0.4612,  0.3642,  0.6276],\n",
      "          [-0.1902, -0.7170, -0.7724,  ...,  0.2533,  0.1424,  0.1147]]]])\n"
     ]
    }
   ],
   "source": [
    "for x in m.test_dataloader():\n",
    "    print(x)\n",
    "    break"
   ]
  },
  {
   "cell_type": "code",
   "execution_count": null,
   "metadata": {},
   "outputs": [],
   "source": []
  }
 ],
 "metadata": {
  "kernelspec": {
   "display_name": "Torch",
   "language": "python",
   "name": "torch"
  },
  "language_info": {
   "codemirror_mode": {
    "name": "ipython",
    "version": 3
   },
   "file_extension": ".py",
   "mimetype": "text/x-python",
   "name": "python",
   "nbconvert_exporter": "python",
   "pygments_lexer": "ipython3",
   "version": "3.8.3"
  }
 },
 "nbformat": 4,
 "nbformat_minor": 4
}
