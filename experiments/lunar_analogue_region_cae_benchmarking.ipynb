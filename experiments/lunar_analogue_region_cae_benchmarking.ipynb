{
 "cells": [
  {
   "cell_type": "code",
   "execution_count": 15,
   "id": "165efe4a",
   "metadata": {},
   "outputs": [],
   "source": [
    "import time\n",
    "import torch\n",
    "import os\n",
    "import pytorch_lightning as pl\n",
    "import logging\n",
    "import numpy as np\n",
    "import matplotlib.pyplot as plt\n",
    "\n",
    "from utils import tools, callbacks, metrics, supported_preprocessing_transforms\n",
    "from modules.cae_base_module import CAEBaseModule\n",
    "from datasets import supported_datamodules\n",
    "from models import supported_models"
   ]
  },
  {
   "cell_type": "code",
   "execution_count": 2,
   "id": "74da98f8",
   "metadata": {},
   "outputs": [
    {
     "name": "stdout",
     "output_type": "stream",
     "text": [
      "Experimental parameters\n",
      "------\n",
      "{'data-parameters': {'batch_size': 32,\n",
      "                     'glob_pattern_test': None,\n",
      "                     'glob_pattern_train': None,\n",
      "                     'preprocessing': 'LunarAnalogueRegionExtractor',\n",
      "                     'root_data_path': '/home/brahste/Datasets/NoveltyLunarAnalogue',\n",
      "                     'train_fraction': None,\n",
      "                     'use_nre_collation': True},\n",
      " 'experiment-parameters': {'datamodule': 'LunarAnalogueDataModule',\n",
      "                           'log_dir': 'logs',\n",
      "                           'model': 'BaselineCAE',\n",
      "                           'patience': None},\n",
      " 'module-parameters': {'learning_rate': 0.0009120108393559097,\n",
      "                       'weight_decay_coefficient': 0.1}}\n"
     ]
    },
    {
     "data": {
      "text/plain": [
       "<All keys matched successfully>"
      ]
     },
     "execution_count": 2,
     "metadata": {},
     "output_type": "execute_result"
    }
   ],
   "source": [
    "config = tools.load_config('../logs/LunarAnalogueDataModule/BaselineCAE/archive_nre1_2021-05-02/configuration.yaml')\n",
    "\n",
    "ptransf = supported_preprocessing_transforms[config['data-parameters']['preprocessing']]\n",
    "\n",
    "dm = supported_datamodules[config['experiment-parameters']['datamodule']](\n",
    "    data_transforms=ptransf,\n",
    "    **config['data-parameters'])\n",
    "dm.setup('test')\n",
    "\n",
    "model = supported_models[config['experiment-parameters']['model']](dm.data_shape)\n",
    "\n",
    "module = CAEBaseModule(model, **config['module-parameters'])\n",
    "\n",
    "# Load the state_dict into the module architecture\n",
    "checkpoint = torch.load('../logs/LunarAnalogueDataModule/BaselineCAE/archive_nre1_2021-05-02/checkpoints/val_loss=0.01-epoch=7.ckpt')\n",
    "module.load_state_dict(checkpoint['state_dict'])"
   ]
  },
  {
   "cell_type": "code",
   "execution_count": 3,
   "id": "93da6aa8",
   "metadata": {},
   "outputs": [
    {
     "name": "stdout",
     "output_type": "stream",
     "text": [
      "[BATCH 0] Mean score: 0.008089265786111355\n",
      "[BATCH 1] Mean score: 0.007363653276115656\n",
      "[BATCH 2] Mean score: 0.008080060593783855\n",
      "[BATCH 3] Mean score: 0.007389832753688097\n",
      "[BATCH 4] Mean score: 0.0075438860803842545\n",
      "[BATCH 5] Mean score: 0.00857859943062067\n",
      "[BATCH 6] Mean score: 0.00763392448425293\n",
      "[BATCH 7] Mean score: 0.008313609287142754\n",
      "[BATCH 8] Mean score: 0.010043047368526459\n",
      "[BATCH 9] Mean score: 0.010335955768823624\n",
      "[BATCH 10] Mean score: 0.009541589766740799\n",
      "[BATCH 11] Mean score: 0.009673045016825199\n",
      "[BATCH 12] Mean score: 0.00887273345142603\n",
      "[BATCH 13] Mean score: 0.009617906995117664\n",
      "[BATCH 14] Mean score: 0.009262076579034328\n",
      "[BATCH 15] Mean score: 0.009458732791244984\n",
      "[BATCH 16] Mean score: 0.009197180159389973\n",
      "[BATCH 17] Mean score: 0.009392841719090939\n",
      "[BATCH 18] Mean score: 0.008997992612421513\n",
      "[BATCH 19] Mean score: 0.009423185139894485\n",
      "[BATCH 20] Mean score: 0.009884021244943142\n",
      "[BATCH 21] Mean score: 0.009759997017681599\n",
      "[BATCH 22] Mean score: 0.00907106976956129\n",
      "[BATCH 23] Mean score: 0.00926424190402031\n",
      "[BATCH 24] Mean score: 0.009221835993230343\n",
      "[BATCH 25] Mean score: 0.008944164030253887\n"
     ]
    }
   ],
   "source": [
    "# Collect scores and labels for all models into a catalog\n",
    "\n",
    "test_novelty_scores = []\n",
    "test_novelty_labels = []\n",
    "\n",
    "module.model.eval()  # Freeze dropout and batch normalization parameters\n",
    "\n",
    "with torch.no_grad():\n",
    "    for batch_nb, batch in enumerate(dm.test_dataloader()):\n",
    "\n",
    "        # Need to implement custom testing to manage regions\n",
    "        batch_in, batch_labels = module.handle_batch_shape(batch)\n",
    "        batch_lt = module.model.encoder(batch_in)\n",
    "        batch_rc = module.model.decoder(batch_lt)\n",
    "        loss = module.loss_function(batch_rc, batch_in)\n",
    "        \n",
    "        for x_rc, x_in in zip(batch_rc, batch_in):\n",
    "            test_novelty_scores.append(module.loss_function(x_rc, x_in))\n",
    "\n",
    "        test_novelty_labels.append(batch_labels)\n",
    "        print(f'[BATCH {batch_nb}] Mean score: {loss.mean()}')"
   ]
  },
  {
   "cell_type": "code",
   "execution_count": 7,
   "id": "496d15ad",
   "metadata": {},
   "outputs": [
    {
     "name": "stdout",
     "output_type": "stream",
     "text": [
      "(13312,)\n",
      "(26,)\n"
     ]
    }
   ],
   "source": [
    "# Here we extract the labels to match the number of crops obtained\n",
    "scores = np.array(test_novelty_scores)\n",
    "labels = np.array(test_novelty_labels)\n",
    "print(scores.shape)\n",
    "print(labels.shape)\n",
    "\n",
    "gt_bboxes = []\n",
    "cr_bboxes = []\n",
    "\n",
    "for batch_labels in test_novelty_labels:\n",
    "    gtbb = batch_labels['gt_bboxes'].reshape(-1, 4)\n",
    "    crbb = batch_labels['cr_bboxes'].reshape(-1, 4)\n",
    "    gt_bboxes.extend(gtbb)\n",
    "    cr_bboxes.extend(crbb)\n",
    "    \n",
    "gt_bboxes = np.array(gt_bboxes)\n",
    "cr_bboxes = np.array(cr_bboxes)"
   ]
  },
  {
   "cell_type": "code",
   "execution_count": 54,
   "id": "e957fc17",
   "metadata": {},
   "outputs": [
    {
     "name": "stdout",
     "output_type": "stream",
     "text": [
      "(13312, 4)\n",
      "(13312, 4)\n",
      "(13312,)\n",
      "(13312,)\n",
      "55\n",
      "0\n"
     ]
    }
   ],
   "source": [
    "print(gt_bboxes.shape)\n",
    "print(cr_bboxes.shape)\n",
    "ious = []\n",
    "binary_labels = []  # IOU > 0.5 counts as a label\n",
    "\n",
    "n_dups = 0\n",
    "\n",
    "for i, (gt, cr) in enumerate(zip(gt_bboxes, cr_bboxes)):\n",
    "    \n",
    "    cr = cr * 5\n",
    "    iou = metrics.iou(cr, gt)\n",
    "    ious.append(iou)\n",
    "    \n",
    "    if iou > 0.7:\n",
    "        binary_labels.append(1)\n",
    "        if i != 0:\n",
    "            if all(gt == prev_gt):\n",
    "                n_dups += 1\n",
    "        prev_gt = gt\n",
    "    else:\n",
    "        binary_labels.append(0)\n",
    "    \n",
    "    \n",
    "ious = np.array(ious)\n",
    "binary_labels = np.array(binary_labels)\n",
    "print(ious.shape)\n",
    "print(binary_labels.shape)\n",
    "print(sum(binary_labels))\n",
    "print(n_dups)"
   ]
  },
  {
   "cell_type": "code",
   "execution_count": 55,
   "id": "5e424c7b",
   "metadata": {},
   "outputs": [],
   "source": [
    "fpr, tpr, thresholds, auc = metrics.roc(scores, binary_labels)"
   ]
  },
  {
   "cell_type": "code",
   "execution_count": 56,
   "id": "b7a27cb8",
   "metadata": {},
   "outputs": [
    {
     "data": {
      "image/png": "[encoded data removed]",
      "text/plain": [
       "<Figure size 432x288 with 1 Axes>"
      ]
     },
     "metadata": {
      "needs_background": "light"
     },
     "output_type": "display_data"
    },
    {
     "name": "stdout",
     "output_type": "stream",
     "text": [
      "Random ROC AUC: 0.5\n"
     ]
    }
   ],
   "source": [
    "plt.plot(fpr, tpr, lw=2., label=f'AUC: {auc:.2f}')\n",
    "plt.plot([0., 1.], [0., 1.], 'k:', lw=2, label='Random')\n",
    "plt.legend(fontsize=16)\n",
    "plt.xticks(fontsize=12)\n",
    "plt.yticks(fontsize=12)\n",
    "plt.xlabel('FPR', fontsize=16)\n",
    "plt.ylabel('TPR', fontsize=16)\n",
    "plt.show()\n",
    "print('Random ROC AUC: 0.5')"
   ]
  },
  {
   "cell_type": "code",
   "execution_count": 60,
   "id": "722ad6a2",
   "metadata": {},
   "outputs": [
    {
     "data": {
      "image/png": "[encoded data removed]",
      "text/plain": [
       "<Figure size 432x288 with 1 Axes>"
      ]
     },
     "metadata": {
      "needs_background": "light"
     },
     "output_type": "display_data"
    }
   ],
   "source": [
    "\n",
    "pak = metrics.precision_at_k(scores, binary_labels)\n",
    "\n",
    "uniques, counts = np.unique(binary_labels, return_counts=True)\n",
    "random = counts.min() / counts.sum()\n",
    "\n",
    "plt.plot(pak)\n",
    "    \n",
    "plt.plot([0, len(pak)], [random, random], 'k:', label='Random')\n",
    "# plt.ylim([0., 1.])\n",
    "plt.legend()\n",
    "plt.show()"
   ]
  },
  {
   "cell_type": "code",
   "execution_count": 90,
   "id": "155c132d",
   "metadata": {},
   "outputs": [
    {
     "name": "stderr",
     "output_type": "stream",
     "text": [
      "2021-05-03 15:33:01,886 - DEBUG - Loaded backend Qt5Agg version unknown.\n"
     ]
    }
   ],
   "source": [
    "%matplotlib qt\n",
    "typical_scores = scores[[not bool(b) for b in binary_labels]]\n",
    "\n",
    "novel_scores = scores[[bool(b) for b in binary_labels]]\n",
    "\n",
    "# plt.hist(scores, bins=25)\n",
    "plt.hist(novel_scores, bins=25, label='Novel', alpha=0.5)\n",
    "plt.hist(typical_scores, bins=25, label='Typical', alpha=0.5)\n",
    "\n",
    "plt.legend()\n",
    "plt.show()"
   ]
  },
  {
   "cell_type": "code",
   "execution_count": null,
   "id": "3e8c0a80",
   "metadata": {},
   "outputs": [],
   "source": []
  }
 ],
 "metadata": {
  "kernelspec": {
   "display_name": "Torch",
   "language": "python",
   "name": "torch"
  },
  "language_info": {
   "codemirror_mode": {
    "name": "ipython",
    "version": 3
   },
   "file_extension": ".py",
   "mimetype": "text/x-python",
   "name": "python",
   "nbconvert_exporter": "python",
   "pygments_lexer": "ipython3",
   "version": "3.8.8"
  }
 },
 "nbformat": 4,
 "nbformat_minor": 5
}
