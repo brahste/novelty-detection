{
 "cells": [
  {
   "cell_type": "code",
   "execution_count": 16,
   "id": "exotic-blend",
   "metadata": {},
   "outputs": [],
   "source": [
    "import os\n",
    "import torch\n",
    "import numpy as np\n",
    "import pytorch_lightning as pl\n",
    "import matplotlib.pyplot as plt\n",
    "\n",
    "from utils import tools, metrics\n",
    "from modules.vae_base_module import VAEBaseModule\n",
    "from models import supported_models\n",
    "from datasets import supported_datamodules\n",
    "\n",
    "plt.style.use('seaborn')\n",
    "config_file = '../configs/vae/vae_simple_mnist.yaml'\n",
    "log_path = '../logs/NoveltyMNISTDataModule/SimpleVAE/archive_v1_2021-04-21'\n",
    "model_path = log_path + '/checkpoints/val_elbo_loss=0.37-epoch=29.ckpt'"
   ]
  },
  {
   "cell_type": "code",
   "execution_count": 17,
   "id": "conditional-invitation",
   "metadata": {},
   "outputs": [
    {
     "name": "stdout",
     "output_type": "stream",
     "text": [
      "Experimental parameters\n",
      "------\n",
      "{'data-parameters': {'batch_size': 128,\n",
      "                     'root_data_path': '/home/brahste/Datasets/NoveltyMNIST',\n",
      "                     'train_fraction': 0.9},\n",
      " 'experiment-parameters': {'datamodule': 'NoveltyMNISTDataModule',\n",
      "                           'log_dir': 'logs',\n",
      "                           'model': 'SimpleVAE',\n",
      "                           'patience': None},\n",
      " 'module-parameters': {'latent_dims': 10, 'learning_rate': 0.01}}\n"
     ]
    },
    {
     "data": {
      "text/plain": [
       "<All keys matched successfully>"
      ]
     },
     "execution_count": 17,
     "metadata": {},
     "output_type": "execute_result"
    }
   ],
   "source": [
    "config = tools.load_config(config_file)\n",
    "exp_params = config['experiment-parameters']\n",
    "data_params = config['data-parameters']\n",
    "module_params = config['module-parameters']\n",
    "\n",
    "datamodule = supported_datamodules[exp_params['datamodule']](**data_params)\n",
    "datamodule.setup('test')\n",
    "\n",
    "model = SimpleVAE(datamodule.data_shape, **module_params)\n",
    "\n",
    "module = VAEBaseModule(model, **module_params)\n",
    "\n",
    "checkpoint = torch.load(model_path)\n",
    "module.load_state_dict(checkpoint['state_dict'])"
   ]
  },
  {
   "cell_type": "code",
   "execution_count": 19,
   "id": "hourly-slovak",
   "metadata": {},
   "outputs": [],
   "source": [
    "test_novelty_scores = []\n",
    "test_novelty_labels = []\n",
    "\n",
    "module.model.eval()\n",
    "with torch.no_grad():\n",
    "    for batch_nb, batch_tuple in enumerate(datamodule.test_dataloader()):\n",
    "        result = module.test_step(batch_tuple, batch_nb);\n",
    "\n",
    "        test_novelty_scores.extend(result['scores'].numpy())\n",
    "        test_novelty_labels.extend(result['labels'].numpy())"
   ]
  },
  {
   "cell_type": "code",
   "execution_count": 20,
   "id": "3c5aba25",
   "metadata": {},
   "outputs": [
    {
     "data": {
      "image/png": "[encoded data removed]",
      "text/plain": [
       "<Figure size 576x396 with 1 Axes>"
      ]
     },
     "metadata": {},
     "output_type": "display_data"
    },
    {
     "name": "stdout",
     "output_type": "stream",
     "text": [
      "Model ROC AUC:  0.8612935813349035\n",
      "Random ROC AUC: 0.5\n"
     ]
    }
   ],
   "source": [
    "fpr, tpr, thresholds, auc = metrics.roc(test_novelty_scores, test_novelty_labels)\n",
    "\n",
    "plt.plot(fpr, tpr)\n",
    "plt.plot([0., 1.], [0., 1.])\n",
    "plt.show()\n",
    "print('Model ROC AUC: ', auc)\n",
    "print('Random ROC AUC: 0.5')"
   ]
  },
  {
   "cell_type": "code",
   "execution_count": 1,
   "id": "d8950645",
   "metadata": {},
   "outputs": [
    {
     "ename": "NameError",
     "evalue": "name 'metrics' is not defined",
     "output_type": "error",
     "traceback": [
      "\u001b[0;31m---------------------------------------------------------------------------\u001b[0m",
      "\u001b[0;31mNameError\u001b[0m                                 Traceback (most recent call last)",
      "\u001b[0;32m<ipython-input-1-d467fbdfdd01>\u001b[0m in \u001b[0;36m<module>\u001b[0;34m\u001b[0m\n\u001b[0;32m----> 1\u001b[0;31m \u001b[0mpak\u001b[0m \u001b[0;34m=\u001b[0m \u001b[0mmetrics\u001b[0m\u001b[0;34m.\u001b[0m\u001b[0mprecision_at_k\u001b[0m\u001b[0;34m(\u001b[0m\u001b[0mtest_novelty_scores\u001b[0m\u001b[0;34m,\u001b[0m \u001b[0mtest_novelty_labels\u001b[0m\u001b[0;34m)\u001b[0m\u001b[0;34m\u001b[0m\u001b[0;34m\u001b[0m\u001b[0m\n\u001b[0m\u001b[1;32m      2\u001b[0m \u001b[0;34m\u001b[0m\u001b[0m\n\u001b[1;32m      3\u001b[0m \u001b[0muniques\u001b[0m\u001b[0;34m,\u001b[0m \u001b[0mcounts\u001b[0m \u001b[0;34m=\u001b[0m \u001b[0mnp\u001b[0m\u001b[0;34m.\u001b[0m\u001b[0munique\u001b[0m\u001b[0;34m(\u001b[0m\u001b[0mtest_novelty_labels\u001b[0m\u001b[0;34m,\u001b[0m \u001b[0mreturn_counts\u001b[0m\u001b[0;34m=\u001b[0m\u001b[0;32mTrue\u001b[0m\u001b[0;34m)\u001b[0m\u001b[0;34m\u001b[0m\u001b[0;34m\u001b[0m\u001b[0m\n\u001b[1;32m      4\u001b[0m \u001b[0mrandom\u001b[0m \u001b[0;34m=\u001b[0m \u001b[0mcounts\u001b[0m\u001b[0;34m.\u001b[0m\u001b[0mmin\u001b[0m\u001b[0;34m(\u001b[0m\u001b[0;34m)\u001b[0m \u001b[0;34m/\u001b[0m \u001b[0mcounts\u001b[0m\u001b[0;34m.\u001b[0m\u001b[0msum\u001b[0m\u001b[0;34m(\u001b[0m\u001b[0;34m)\u001b[0m\u001b[0;34m\u001b[0m\u001b[0;34m\u001b[0m\u001b[0m\n\u001b[1;32m      5\u001b[0m \u001b[0;34m\u001b[0m\u001b[0m\n",
      "\u001b[0;31mNameError\u001b[0m: name 'metrics' is not defined"
     ]
    }
   ],
   "source": [
    "pak = metrics.precision_at_k(test_novelty_scores, test_novelty_labels)\n",
    "\n",
    "uniques, counts = np.unique(test_novelty_labels, return_counts=True)\n",
    "random = counts.min() / counts.sum()\n",
    "\n",
    "plt.plot(pak)\n",
    "plt.plot([0, 10000], [random, random])\n",
    "plt.ylim([0., 1.])\n",
    "plt.show()"
   ]
  },
  {
   "cell_type": "code",
   "execution_count": 22,
   "id": "8917b2ea",
   "metadata": {},
   "outputs": [
    {
     "name": "stdout",
     "output_type": "stream",
     "text": [
      "9984\n"
     ]
    }
   ],
   "source": [
    "print(len(pak))"
   ]
  }
 ],
 "metadata": {
  "kernelspec": {
   "display_name": "Python 3",
   "language": "python",
   "name": "python3"
  },
  "language_info": {
   "codemirror_mode": {
    "name": "ipython",
    "version": 3
   },
   "file_extension": ".py",
   "mimetype": "text/x-python",
   "name": "python",
   "nbconvert_exporter": "python",
   "pygments_lexer": "ipython3",
   "version": "3.8.8"
  }
 },
 "nbformat": 4,
 "nbformat_minor": 5
}
