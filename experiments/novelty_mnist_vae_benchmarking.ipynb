{
 "cells": [
  {
   "cell_type": "code",
   "execution_count": 1,
   "id": "exotic-blend",
   "metadata": {},
   "outputs": [],
   "source": [
    "import os\n",
    "import torch\n",
    "import numpy as np\n",
    "import pytorch_lightning as pl\n",
    "import matplotlib.pyplot as plt\n",
    "\n",
    "from utils import tools, metrics, criterion\n",
    "from modules.vae_base_module import VAEBaseModule\n",
    "from models import supported_models\n",
    "from datasets import supported_datamodules\n",
    "\n",
    "plt.style.use('seaborn')\n",
    "config_file = '../configs/vae/vae_simple_mnist.yaml'\n",
    "log_path = '../logs/NoveltyMNISTDataModule/SimpleVAE/version_0'\n",
    "model_path = log_path + '/checkpoints/last.ckpt'\n",
    "recons_path = '../logs/NoveltyMNISTDataModule/SimpleVAE/version_0/train_recons.pt'"
   ]
  },
  {
   "cell_type": "code",
   "execution_count": 2,
   "id": "conditional-invitation",
   "metadata": {},
   "outputs": [
    {
     "name": "stdout",
     "output_type": "stream",
     "text": [
      "Experimental parameters\n",
      "------\n",
      "{'data-parameters': {'batch_size': 128,\n",
      "                     'root_data_path': '/home/sleipnir/Documents/Datasets/NoveltyMNIST',\n",
      "                     'train_fraction': 0.9},\n",
      " 'experiment-parameters': {'datamodule': 'NoveltyMNISTDataModule',\n",
      "                           'log_dir': 'logs',\n",
      "                           'model': 'SimpleVAE',\n",
      "                           'patience': None},\n",
      " 'module-parameters': {'latent_nodes': 10, 'learning_rate': 0.01}}\n"
     ]
    },
    {
     "data": {
      "text/plain": [
       "<All keys matched successfully>"
      ]
     },
     "execution_count": 2,
     "metadata": {},
     "output_type": "execute_result"
    }
   ],
   "source": [
    "config = tools.load_config(config_file)\n",
    "exp_params = config['experiment-parameters']\n",
    "data_params = config['data-parameters']\n",
    "module_params = config['module-parameters']\n",
    "\n",
    "datamodule = supported_datamodules[exp_params['datamodule']](**data_params)\n",
    "datamodule.setup('test')\n",
    "\n",
    "model = supported_models[exp_params['model']](datamodule.data_shape, **module_params)\n",
    "\n",
    "module = VAEBaseModule(model, **module_params)\n",
    "\n",
    "checkpoint = torch.load(model_path)\n",
    "module.load_state_dict(checkpoint['state_dict'])"
   ]
  },
  {
   "cell_type": "code",
   "execution_count": 3,
   "id": "aa36528e",
   "metadata": {},
   "outputs": [
    {
     "name": "stdout",
     "output_type": "stream",
     "text": [
      "Testing with the Best Loss criterion\n",
      "torch.Size([337, 128, 1, 28, 28])\n"
     ]
    }
   ],
   "source": [
    "test_novelty_scores = []\n",
    "test_novelty_labels = []\n",
    "score_criterion = criterion.BestLoss(recons_path)"
   ]
  },
  {
   "cell_type": "code",
   "execution_count": null,
   "id": "hourly-slovak",
   "metadata": {},
   "outputs": [],
   "source": [
    "module.model.eval()\n",
    "with torch.no_grad():\n",
    "    for batch_nb, batch_tuple in enumerate(datamodule.test_dataloader()):\n",
    "        result = module.test_step(batch_tuple, batch_nb, score_criterion);\n",
    "        test_novelty_scores.extend(result['scores'].numpy())\n",
    "        test_novelty_labels.extend(result['labels'].numpy())"
   ]
  },
  {
   "cell_type": "code",
   "execution_count": null,
   "id": "3c5aba25",
   "metadata": {},
   "outputs": [],
   "source": [
    "fpr, tpr, thresholds, auc = metrics.roc(test_novelty_scores, test_novelty_labels)\n",
    "\n",
    "plt.plot(fpr, tpr)\n",
    "plt.plot([0., 1.], [0., 1.])\n",
    "plt.show()\n",
    "print('Model ROC AUC: ', auc)\n",
    "print('Random ROC AUC: 0.5')"
   ]
  },
  {
   "cell_type": "code",
   "execution_count": null,
   "id": "d8950645",
   "metadata": {},
   "outputs": [],
   "source": [
    "pak = metrics.precision_at_k(test_novelty_scores, test_novelty_labels)\n",
    "\n",
    "uniques, counts = np.unique(test_novelty_labels, return_counts=True)\n",
    "random = counts.min() / counts.sum()\n",
    "\n",
    "plt.plot(pak)\n",
    "plt.plot([0, 10000], [random, random])\n",
    "plt.ylim([0., 1.])\n",
    "plt.show()"
   ]
  },
  {
   "cell_type": "code",
   "execution_count": null,
   "id": "8917b2ea",
   "metadata": {},
   "outputs": [],
   "source": [
    "print(len(pak))"
   ]
  }
 ],
 "metadata": {
  "kernelspec": {
   "display_name": "Python 3",
   "language": "python",
   "name": "python3"
  },
  "language_info": {
   "codemirror_mode": {
    "name": "ipython",
    "version": 3
   },
   "file_extension": ".py",
   "mimetype": "text/x-python",
   "name": "python",
   "nbconvert_exporter": "python",
   "pygments_lexer": "ipython3",
   "version": "3.8.5"
  }
 },
 "nbformat": 4,
 "nbformat_minor": 5
}
