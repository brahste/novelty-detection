{
 "cells": [
  {
   "cell_type": "code",
   "execution_count": 1,
   "id": "exotic-blend",
   "metadata": {},
   "outputs": [],
   "source": [
    "import os\n",
    "import torch\n",
    "import pytorch_lightning as pl\n",
    "import matplotlib.pyplot as plt\n",
    "\n",
    "from utils import tools\n",
    "from modules.vae_base_module import VAEBaseModule\n",
    "from models.vae_simple import SimpleVAE\n",
    "from datasets.novelty_mnist import NoveltyMNISTDataModule\n",
    "\n",
    "%matplotlib inline\n",
    "plt.style.use('seaborn')\n"
   ]
  },
  {
   "cell_type": "code",
   "execution_count": 2,
   "id": "conditional-invitation",
   "metadata": {},
   "outputs": [
    {
     "name": "stdout",
     "output_type": "stream",
     "text": [
      "Experimental parameters\n",
      "------\n",
      "{'data-parameters': {'batch_size': 128,\n",
      "                     'download': True,\n",
      "                     'root_data_path': '/home/fenrir/Documents/Datasets/NoveltyMNIST',\n",
      "                     'train_fraction': 0.9},\n",
      " 'experiment-parameters': {'datamodule': 'NoveltyMNISTDataModule',\n",
      "                           'log_dir': 'logs',\n",
      "                           'name': 'VAESimple'},\n",
      " 'module-parameters': {'latent_dims': 10, 'learning_rate': 0.001}}\n"
     ]
    }
   ],
   "source": [
    "default_path = os.path.join(os.getcwd(), '../configs/vae/vae_simple_emnist.yaml')\n",
    "config = tools.config_from_command_line(default_path)"
   ]
  },
  {
   "cell_type": "code",
   "execution_count": 3,
   "id": "liable-costume",
   "metadata": {},
   "outputs": [
    {
     "data": {
      "text/plain": [
       "<All keys matched successfully>"
      ]
     },
     "execution_count": 3,
     "metadata": {},
     "output_type": "execute_result"
    }
   ],
   "source": [
    "datamodule = NoveltyMNISTDataModule(**config['data-parameters'])\n",
    "datamodule.setup('test')\n",
    "\n",
    "model = SimpleVAE(datamodule.shape, **config['module-parameters'])\n",
    "\n",
    "module = VAEBaseModule(model, **config['module-parameters'])\n",
    "\n",
    "checkpoint = torch.load('../logs/VAESimple/version_1/checkpoints/epoch=34-step=11794.ckpt')\n",
    "module.load_state_dict(checkpoint['state_dict'])"
   ]
  },
  {
   "cell_type": "code",
   "execution_count": 4,
   "id": "hourly-slovak",
   "metadata": {},
   "outputs": [],
   "source": [
    "test_novelty_scores = []\n",
    "test_novelty_labels = []\n",
    "\n",
    "module.model.eval()\n",
    "with torch.no_grad():\n",
    "    for batch_nb, batch_tuple in enumerate(datamodule.test_dataloader()):\n",
    "        result = module.test_step(batch_tuple, batch_nb);\n",
    "#         print(result['scores'].shape)\n",
    "#         print(result['labels'].shape)\n",
    "        test_novelty_scores.extend(result['scores'].numpy())\n",
    "        test_novelty_labels.extend(result['labels'].numpy())\n",
    "        \n",
    "    # enumerate dataloader\n",
    "    # write test step for module\n",
    "    # return novelty scores\n"
   ]
  },
  {
   "cell_type": "code",
   "execution_count": 6,
   "id": "3c5aba25",
   "metadata": {},
   "outputs": [
    {
     "data": {
      "image/png": "[encoded data removed]",
      "text/plain": [
       "<Figure size 576x396 with 1 Axes>"
      ]
     },
     "metadata": {},
     "output_type": "display_data"
    },
    {
     "name": "stdout",
     "output_type": "stream",
     "text": [
      "Model ROC AUC:  0.8733834009316103\n",
      "Random ROC AUC:  0.5\n"
     ]
    }
   ],
   "source": [
    "from sklearn import metrics\n",
    "\n",
    "fpr, tpr, thresholds = metrics.roc_curve(test_novelty_labels, test_novelty_scores)\n",
    "roc_auc_score = metrics.roc_auc_score(test_novelty_labels, test_novelty_scores)\n",
    "roc_auc_score_rand = metrics.roc_auc_score([*[0.]*400, *[1.]*400], [0.5]*800)\n",
    "\n",
    "plt.plot(fpr, tpr)\n",
    "plt.plot([0., 1.], [0., 1.])\n",
    "plt.show()\n",
    "print('Model ROC AUC: ', roc_auc_score)\n",
    "print('Random ROC AUC: ', roc_auc_score_rand)"
   ]
  },
  {
   "cell_type": "code",
   "execution_count": null,
   "id": "b4f933cc",
   "metadata": {},
   "outputs": [],
   "source": []
  }
 ],
 "metadata": {
  "kernelspec": {
   "display_name": "Python 3",
   "language": "python",
   "name": "python3"
  },
  "language_info": {
   "codemirror_mode": {
    "name": "ipython",
    "version": 3
   },
   "file_extension": ".py",
   "mimetype": "text/x-python",
   "name": "python",
   "nbconvert_exporter": "python",
   "pygments_lexer": "ipython3",
   "version": "3.8.5"
  }
 },
 "nbformat": 4,
 "nbformat_minor": 5
}
