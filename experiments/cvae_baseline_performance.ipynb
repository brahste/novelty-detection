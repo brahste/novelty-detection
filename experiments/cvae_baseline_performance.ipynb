{
 "cells": [
  {
   "cell_type": "code",
   "execution_count": 1,
   "id": "exotic-blend",
   "metadata": {},
   "outputs": [],
   "source": [
    "import os\n",
    "import torch\n",
    "import pytorch_lightning as pl\n",
    "import matplotlib.pyplot as plt\n",
    "\n",
    "from utils import tools\n",
    "from modules.vae_base_module import VAEBaseModule\n",
    "from models.vae_simple import SimpleVAE\n",
    "from datasets.novelty_mnist import NoveltyMNISTDataModule\n",
    "\n",
    "%matplotlib inline\n",
    "plt.style.use('seaborn')\n"
   ]
  },
  {
   "cell_type": "code",
   "execution_count": null,
   "id": "conditional-invitation",
   "metadata": {},
   "outputs": [],
   "source": [
    "default_path = os.path.join(os.getcwd(), '../configs/vae/vae_simple_emnist.yaml')\n",
    "config = tools.config_from_command_line(default_path)"
   ]
  },
  {
   "cell_type": "code",
   "execution_count": null,
   "id": "liable-costume",
   "metadata": {},
   "outputs": [],
   "source": [
    "datamodule = NoveltyMNISTDataModule(**config['data-parameters'])\n",
    "datamodule.setup('test')\n",
    "\n",
    "model = SimpleVAE()\n",
    "\n",
    "module = VAEBaseModule(model, **config['module-parameters'])\n",
    "\n",
    "checkpoint = torch.load('../logs/VAESimple/version_0/checkpoints/epoch=35-step=12131.ckpt')\n",
    "module.load_state_dict(checkpoint['state_dict'])"
   ]
  },
  {
   "cell_type": "code",
   "execution_count": null,
   "id": "hourly-slovak",
   "metadata": {},
   "outputs": [],
   "source": [
    "test_novelty_scores = []\n",
    "test_novelty_labels = []\n",
    "\n",
    "module.model.eval()\n",
    "with torch.no_grad():\n",
    "    # enumerate dataloader\n",
    "    # write test step for module\n",
    "    # return novelty scores\n"
   ]
  }
 ],
 "metadata": {
  "kernelspec": {
   "display_name": "Python 3",
   "language": "python",
   "name": "python3"
  },
  "language_info": {
   "codemirror_mode": {
    "name": "ipython",
    "version": 3
   },
   "file_extension": ".py",
   "mimetype": "text/x-python",
   "name": "python",
   "nbconvert_exporter": "python",
   "pygments_lexer": "ipython3",
   "version": "3.8.5"
  }
 },
 "nbformat": 4,
 "nbformat_minor": 5
}
