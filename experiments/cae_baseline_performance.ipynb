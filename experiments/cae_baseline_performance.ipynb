{
 "cells": [
  {
   "cell_type": "code",
   "execution_count": 2,
   "metadata": {},
   "outputs": [],
   "source": [
    "import os\n",
    "import torch\n",
    "import pytorch_lightning as pl\n",
    "import matplotlib.pyplot as plt\n",
    "\n",
    "from utils import tools\n",
    "from modules.cae_base_module import CAEBaseModule\n",
    "from models.reference_cae import ReferenceCAE\n",
    "from datasets.lunar_analogue import LunarAnalogueDataModule\n",
    "\n",
    "%matplotlib inline\n",
    "plt.style.use('seaborn')"
   ]
  },
  {
   "cell_type": "code",
   "execution_count": 6,
   "metadata": {
    "scrolled": true
   },
   "outputs": [
    {
     "name": "stdout",
     "output_type": "stream",
     "text": [
      "Experimental parameters\n",
      "------\n",
      "experiment-parameters: {'name': 'ReferenceCAE', 'log_dir': 'logs'}\n",
      "data-parameters: {'root_data_path': '/home/brahste/Datasets/LunarAnalogue', 'glob_pattern_train': '**/nov-labelled/trainval/*.jpeg', 'glob_pattern_test': '**/nov-labelled/test/**/*.jpeg', 'train_fraction': 0.9, 'batch_size': 32}\n",
      "module-parameters: {'learning_rate': 0.005, 'weight_decay_coefficient': 0.1} \n",
      "\n"
     ]
    }
   ],
   "source": [
    "default_path = os.path.join(os.getcwd(), '../configs/reference_cae.yaml')\n",
    "config = tools.config_from_command_line(default_path)"
   ]
  },
  {
   "cell_type": "code",
   "execution_count": 2,
   "metadata": {},
   "outputs": [
    {
     "ename": "NameError",
     "evalue": "name 'LunarAnalogueDataModule' is not defined",
     "output_type": "error",
     "traceback": [
      "\u001b[0;31m---------------------------------------------------------------------------\u001b[0m",
      "\u001b[0;31mNameError\u001b[0m                                 Traceback (most recent call last)",
      "\u001b[0;32m<ipython-input-2-382eaed370de>\u001b[0m in \u001b[0;36m<module>\u001b[0;34m\u001b[0m\n\u001b[0;32m----> 1\u001b[0;31m \u001b[0mdatamodule\u001b[0m \u001b[0;34m=\u001b[0m \u001b[0mLunarAnalogueDataModule\u001b[0m\u001b[0;34m(\u001b[0m\u001b[0;34m**\u001b[0m\u001b[0mconfig\u001b[0m\u001b[0;34m[\u001b[0m\u001b[0;34m'data-parameters'\u001b[0m\u001b[0;34m]\u001b[0m\u001b[0;34m)\u001b[0m\u001b[0;34m\u001b[0m\u001b[0;34m\u001b[0m\u001b[0m\n\u001b[0m\u001b[1;32m      2\u001b[0m \u001b[0mdatamodule\u001b[0m\u001b[0;34m.\u001b[0m\u001b[0msetup\u001b[0m\u001b[0;34m(\u001b[0m\u001b[0;34m'test'\u001b[0m\u001b[0;34m)\u001b[0m\u001b[0;34m\u001b[0m\u001b[0;34m\u001b[0m\u001b[0m\n\u001b[1;32m      3\u001b[0m \u001b[0;34m\u001b[0m\u001b[0m\n\u001b[1;32m      4\u001b[0m \u001b[0mmodel\u001b[0m \u001b[0;34m=\u001b[0m \u001b[0mReferenceCAE\u001b[0m\u001b[0;34m(\u001b[0m\u001b[0;34m)\u001b[0m\u001b[0;34m\u001b[0m\u001b[0;34m\u001b[0m\u001b[0m\n\u001b[1;32m      5\u001b[0m \u001b[0;34m\u001b[0m\u001b[0m\n",
      "\u001b[0;31mNameError\u001b[0m: name 'LunarAnalogueDataModule' is not defined"
     ]
    }
   ],
   "source": [
    "datamodule = LunarAnalogueDataModule(**config['data-parameters'])\n",
    "datamodule.setup('test')\n",
    "\n",
    "model = ReferenceCAE()\n",
    "\n",
    "module = CAEBaseModule(model, **config['module-parameters'])\n",
    "\n",
    "# Here, use the relative path to the checpoint you want to test with\n",
    "checkpoint = torch.load('../logs/ReferenceCAE/version_0/checkpoints/val_loss=0.08-epoch=26.ckpt')\n",
    "module.load_state_dict(checkpoint['state_dict'])"
   ]
  },
  {
   "cell_type": "code",
   "execution_count": 1,
   "metadata": {},
   "outputs": [
    {
     "ename": "NameError",
     "evalue": "name 'module' is not defined",
     "output_type": "error",
     "traceback": [
      "\u001b[0;31m---------------------------------------------------------------------------\u001b[0m",
      "\u001b[0;31mNameError\u001b[0m                                 Traceback (most recent call last)",
      "\u001b[0;32m<ipython-input-1-13c4d5e1e46a>\u001b[0m in \u001b[0;36m<module>\u001b[0;34m\u001b[0m\n\u001b[1;32m      3\u001b[0m \u001b[0mtest_novelty_labels\u001b[0m \u001b[0;34m=\u001b[0m \u001b[0;34m[\u001b[0m\u001b[0;34m]\u001b[0m\u001b[0;34m\u001b[0m\u001b[0;34m\u001b[0m\u001b[0m\n\u001b[1;32m      4\u001b[0m \u001b[0;34m\u001b[0m\u001b[0m\n\u001b[0;32m----> 5\u001b[0;31m \u001b[0mmodule\u001b[0m\u001b[0;34m.\u001b[0m\u001b[0mmodel\u001b[0m\u001b[0;34m.\u001b[0m\u001b[0meval\u001b[0m\u001b[0;34m(\u001b[0m\u001b[0;34m)\u001b[0m  \u001b[0;31m# Freeze dropout and batch normalization parameters\u001b[0m\u001b[0;34m\u001b[0m\u001b[0;34m\u001b[0m\u001b[0m\n\u001b[0m\u001b[1;32m      6\u001b[0m \u001b[0;32mwith\u001b[0m \u001b[0mtorch\u001b[0m\u001b[0;34m.\u001b[0m\u001b[0mno_grad\u001b[0m\u001b[0;34m(\u001b[0m\u001b[0;34m)\u001b[0m\u001b[0;34m:\u001b[0m\u001b[0;34m\u001b[0m\u001b[0;34m\u001b[0m\u001b[0m\n\u001b[1;32m      7\u001b[0m     \u001b[0;32mfor\u001b[0m \u001b[0mbatch_nb\u001b[0m\u001b[0;34m,\u001b[0m \u001b[0mbatch\u001b[0m \u001b[0;32min\u001b[0m \u001b[0menumerate\u001b[0m\u001b[0;34m(\u001b[0m\u001b[0mdatamodule\u001b[0m\u001b[0;34m.\u001b[0m\u001b[0mtest_dataloader\u001b[0m\u001b[0;34m(\u001b[0m\u001b[0;34m)\u001b[0m\u001b[0;34m)\u001b[0m\u001b[0;34m:\u001b[0m\u001b[0;34m\u001b[0m\u001b[0;34m\u001b[0m\u001b[0m\n",
      "\u001b[0;31mNameError\u001b[0m: name 'module' is not defined"
     ]
    }
   ],
   "source": [
    "# Run test step manually\n",
    "test_novelty_scores = []\n",
    "test_novelty_labels = []\n",
    "\n",
    "module.model.eval()  # Freeze dropout and batch normalization parameters\n",
    "with torch.no_grad():\n",
    "    for batch_nb, batch in enumerate(datamodule.test_dataloader()):\n",
    "        result = module.test_step(batch, batch_nb)\n",
    "        print(f'[BATCH {batch_nb}] Testing...')\n",
    "        test_novelty_scores.extend(result['scores'].cpu().numpy())\n",
    "        test_novelty_labels.extend(result['labels'].cpu().numpy())"
   ]
  },
  {
   "cell_type": "code",
   "execution_count": 10,
   "metadata": {},
   "outputs": [
    {
     "data": {
      "image/png": "[encoded data removed]",
      "text/plain": [
       "<Figure size 576x396 with 1 Axes>"
      ]
     },
     "metadata": {},
     "output_type": "display_data"
    },
    {
     "name": "stdout",
     "output_type": "stream",
     "text": [
      "Model ROC AUC:  0.4809412869392673\n",
      "Random ROC AUC:  0.5\n"
     ]
    }
   ],
   "source": [
    "from sklearn import metrics\n",
    "\n",
    "fpr, tpr, thresholds = metrics.roc_curve(test_novelty_labels, test_novelty_scores)\n",
    "roc_auc_score = metrics.roc_auc_score(test_novelty_labels, test_novelty_scores)\n",
    "roc_auc_score_rand = metrics.roc_auc_score([*[0.]*400, *[1.]*400], [0.5]*800)\n",
    "\n",
    "plt.plot(fpr, tpr)\n",
    "plt.plot([0., 1.], [0., 1.])\n",
    "plt.show()\n",
    "print('Model ROC AUC: ', roc_auc_score)\n",
    "print('Random ROC AUC: ', roc_auc_score_rand)"
   ]
  },
  {
   "cell_type": "markdown",
   "metadata": {},
   "source": [
    "# Discussion\n",
    "\n",
    "Based on this preliminary experiment it appears that the ability for the CAE detector to classify novel samples is no better than random. This beahviour was observered, at rates worse than random, in the PCA detector too. A number of explanations for the CAE's low classification quality are plausible and will require further invesigation. Perhaps the most obvious reason is that for the reference CAE the dimensional reduction is low at only 1/16. For an input image of size $512\\times 512 \\times 3$ there are $786,432$ parameters that are encoded into $49,152$ parameters in the latent space. It is possible that for images of this size too much information is preserved in that latent space that reconsructions are trivially mapped from input to output. From the work done with the same model on the Martian dataset (Stefanuk, 2020), where it is known that ROC AUCs near 0.7 can be achieved, the reduction takes inputs from the $64\\times 64\\times 6 = 24576$ dimensional space and encodes them into a mere $768$ dimensions (this time a 32x reduction, since the inputs are 6-channel multispectral images). Following this vein, a more substantial reduction between the input and latent space could improve detection efficacy.\n",
    "\n",
    "Another possible culprit for the CAE's poor detection performance could be the whole-image nature of the detection being carried out. When the model is fed entire images to classify as novel or typical, only small patches of these images contain novel content. In such cases the broader context and structure of the image may be diluting the novel content. As was conducted in our previous literature, cropping the images into small patches (e.g. $64\\times64$ pixels) may help resolve this dilemma by capturing larger fractions of novel content within each novel image. This method of using small crops was used in the Martian dataset as well, no douby improving the overall performance of their detections (Kerner et. al., 2020).\n",
    "\n",
    "Finally, the method of novelty detection employed in this script is one of simple thresholding. By assigning a global attribute to each image we are implicitly assuming that the error distribution between each input and reconstruction is irrelevant to the presence of a novelty. Given that we are operating on whole images, this assumption is grossly misplaced. If instead we were working on small patches within each image than the spatially-independent novelty assumption would have more merit, but would still misrepresent the nature of the problem. As was shown by Kerner et. al (2018), such patches can contain a variety of novel content that include both spectral and morphological components. As such it is worth examining how performance can be boosted by cascading a binary CNN with the CAE to infer whether the stucture of the error map itself is novel.\n",
    "\n",
    "**Note: This model hasn't been equipped with dropout yet, this may improve generalization and (unfortunately) reduce the performance of the novelty detector further... changes with dropout coming soon**"
   ]
  },
  {
   "cell_type": "code",
   "execution_count": null,
   "metadata": {},
   "outputs": [],
   "source": []
  }
 ],
 "metadata": {
  "kernelspec": {
   "display_name": "PyTorch",
   "language": "python",
   "name": "pytorch"
  },
  "language_info": {
   "codemirror_mode": {
    "name": "ipython",
    "version": 3
   },
   "file_extension": ".py",
   "mimetype": "text/x-python",
   "name": "python",
   "nbconvert_exporter": "python",
   "pygments_lexer": "ipython3",
   "version": "3.8.5"
  }
 },
 "nbformat": 4,
 "nbformat_minor": 4
}
