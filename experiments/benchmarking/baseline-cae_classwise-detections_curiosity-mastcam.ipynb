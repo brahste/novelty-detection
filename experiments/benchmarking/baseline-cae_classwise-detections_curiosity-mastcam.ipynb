{
 "cells": [
  {
   "cell_type": "code",
   "execution_count": 1,
   "id": "c9c0ead7",
   "metadata": {},
   "outputs": [],
   "source": [
    "import sys\n",
    "sys.path.append('../..')  # Expose top level program access\n",
    "\n",
    "import time\n",
    "import pickle\n",
    "import logging\n",
    "import torch\n",
    "import numpy as np\n",
    "import pandas as pd\n",
    "import seaborn as sns\n",
    "import pytorch_lightning as pl\n",
    "import matplotlib.pyplot as plt\n",
    "\n",
    "from functools import reduce\n",
    "from pathlib import Path\n",
    "\n",
    "from modules.cae_base_module import CAEBaseModule\n",
    "from modules.vae_base_module import VAEBaseModule\n",
    "from modules.aae_base_module import AAEBaseModule\n",
    "from modules.pca_base_module import PCABaseModule\n",
    "from models import supported_models\n",
    "from datasets.curiosity import CuriosityDataset\n",
    "from utils import tools, metrics, supported_preprocessing_transforms\n",
    "from utils.dtypes import *\n",
    "\n",
    "logging.getLogger(\"matplotlib\").setLevel(logging.WARNING)  # Suppress verbose font warnings from matplotlib"
   ]
  },
  {
   "cell_type": "code",
   "execution_count": 14,
   "id": "d7cec53b",
   "metadata": {},
   "outputs": [
    {
     "name": "stdout",
     "output_type": "stream",
     "text": [
      "Found archived models:\n",
      "------\n",
      "BaselineVAE/archive_v1_2021-04-23\n",
      "BaselineVAE/archive-lowperf_v2_2021-04-23\n",
      "BaselineCAE/archive_v2_2021-04-21\n",
      "BaselineCAE/archive_v1_2021-04-12\n",
      "BaselineCAE/archive-redundant_v4_2021-04-22\n",
      "BaselineCAE/archive-redundant_v3_2021-04-22\n",
      "BaselineAAE/archive-lowperf_v1_2021-05-07\n",
      "BaselineAAE/archive_v2_2021-05-08\n"
     ]
    }
   ],
   "source": [
    "# Import configurations and paths to logged models\n",
    "root = Path.cwd().parents[1]\n",
    "log_path = root / 'logs' / 'CuriosityDataModule'\n",
    "paths_to_archived_models = list(Path(log_path).glob('**/*Baseline*/archive*'))\n",
    "\n",
    "print('Found archived models:\\n------')\n",
    "print('\\n'.join([f'{p.parent.name}/{p.name}' for p in paths_to_archived_models]))"
   ]
  },
  {
   "cell_type": "code",
   "execution_count": 16,
   "id": "81675fc1",
   "metadata": {},
   "outputs": [],
   "source": [
    "model = supported_models['BaselineAAE'](in_shape=(6, 64, 64), latent_nodes=10)\n",
    "module = AAEBaseModule(model, **{'learning_rate': 0.007, 'weight_decay_coefficient': 0.001})\n",
    "\n",
    "# Load the state_dict into the module architecture\n",
    "checkpoint = torch.load('/home/brahste/Projects/novelty-detection/logs/CuriosityDataModule/BaselineAAE/archive_v2_2021-05-08/checkpoints/val_r_loss=0.58-epoch=29.ckpt')\n",
    "module.load_state_dict(checkpoint['state_dict'])\n",
    "\n",
    "preprocessing_transforms = supported_preprocessing_transforms['CuriosityPreprocessing']\n",
    "\n",
    "novelty_classes = [f'test_novel/{c}/' for c in ('all', 'bedrock', 'broken-rock', 'drill-hole', 'drt', 'dump-pile', 'float', 'meteorite', 'veins')]\n",
    "\n",
    "test_sets = {}\n",
    "\n",
    "for nov_class in novelty_classes:\n",
    "    test_sets[nov_class] = CuriosityDataset(\n",
    "        '/home/brahste/Datasets/MartianCuriosity',\n",
    "        train=False,\n",
    "        data_transforms=preprocessing_transforms,\n",
    "        novel_class_specifier=nov_class\n",
    "    )"
   ]
  },
  {
   "cell_type": "code",
   "execution_count": 18,
   "id": "301d7272",
   "metadata": {
    "scrolled": true
   },
   "outputs": [
    {
     "name": "stdout",
     "output_type": "stream",
     "text": [
      "855 test_novel/all/\n",
      "AUC: 0.6712304836772574\n",
      "436 test_novel/bedrock/\n",
      "AUC: 0.5516431924882629\n",
      "501 test_novel/broken-rock/\n",
      "AUC: 0.7246108228317272\n",
      "487 test_novel/drill-hole/\n",
      "AUC: 0.6083976980160533\n",
      "536 test_novel/drt/\n",
      "AUC: 0.7253309647675844\n",
      "518 test_novel/dump-pile/\n",
      "AUC: 0.6391286788833358\n",
      "443 test_novel/float/\n",
      "AUC: 0.6264997391757956\n",
      "459 test_novel/meteorite/\n",
      "AUC: 0.5935515051090858\n",
      "455 test_novel/veins/\n",
      "AUC: 0.6863067292644758\n"
     ]
    }
   ],
   "source": [
    "module.encoder.eval()\n",
    "module.decoder.eval()\n",
    "\n",
    "with torch.no_grad():\n",
    "    for nov_class in novelty_classes:\n",
    "        test_novelty_scores = []\n",
    "        test_novelty_labels = []\n",
    "        for batch_nb, (image, label) in enumerate(test_sets[nov_class]):\n",
    "            image = image[None]\n",
    "\n",
    "            result = module.test_step((image, label), batch_nb)\n",
    "\n",
    "            test_novelty_scores.append(result['scores'])\n",
    "            test_novelty_labels.append(result['labels'])\n",
    "#             print(f'[BATCH {batch_nb}] Mean score: {np.mean(result[\"scores\"])}')\n",
    "        fpr, tpr, thresholds, auc = metrics.roc(test_novelty_scores, test_novelty_labels)\n",
    "        print(batch_nb, nov_class)\n",
    "        print(f'AUC: {auc}')"
   ]
  },
  {
   "cell_type": "code",
   "execution_count": 5,
   "id": "684954ec",
   "metadata": {},
   "outputs": [
    {
     "name": "stdout",
     "output_type": "stream",
     "text": [
      "0.5134976525821596\n"
     ]
    }
   ],
   "source": []
  },
  {
   "cell_type": "code",
   "execution_count": null,
   "id": "9e8fac4f",
   "metadata": {},
   "outputs": [],
   "source": []
  }
 ],
 "metadata": {
  "kernelspec": {
   "display_name": "Torch",
   "language": "python",
   "name": "torch"
  },
  "language_info": {
   "codemirror_mode": {
    "name": "ipython",
    "version": 3
   },
   "file_extension": ".py",
   "mimetype": "text/x-python",
   "name": "python",
   "nbconvert_exporter": "python",
   "pygments_lexer": "ipython3",
   "version": "3.8.8"
  }
 },
 "nbformat": 4,
 "nbformat_minor": 5
}
